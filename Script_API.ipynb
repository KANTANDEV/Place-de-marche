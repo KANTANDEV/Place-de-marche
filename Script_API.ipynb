{
 "cells": [
  {
   "cell_type": "code",
   "execution_count": 1,
   "id": "57dc899d-cd14-448f-bad9-847200feba72",
   "metadata": {},
   "outputs": [],
   "source": [
    "import requests\n",
    "import csv\n",
    "import pandas as pd"
   ]
  },
  {
   "cell_type": "markdown",
   "id": "81f13c16-6ba2-4abc-a836-cb68a0475d22",
   "metadata": {},
   "source": [
    "# Teste de la collecte de produits"
   ]
  },
  {
   "cell_type": "code",
   "execution_count": 2,
   "id": "20bee22a-ec16-4be8-bc57-d36c89fecc1a",
   "metadata": {
    "scrolled": true
   },
   "outputs": [
    {
     "name": "stdout",
     "output_type": "stream",
     "text": [
      "{'text': '', 'parsed': [], 'hints': [{'food': {'foodId': 'food_bwrgmmqau78xrdazxx79obeezumz', 'uri': 'http://www.edamam.com/ontologies/edamam.owl#Food_01001', 'label': 'Butter, Salted', 'knownAs': 'Butter, salted', 'nutrients': {'ENERC_KCAL': 717.0, 'PROCNT': 0.85, 'FAT': 81.1, 'CHOCDF': 0.06, 'FIBTG': 0.0}, 'category': 'Generic foods', 'categoryLabel': 'food', 'image': 'https://www.edamam.com/food-img/515/515af390107678fce1533a31ee4cc35b.jpeg'}, 'measures': [{'uri': 'http://www.edamam.com/ontologies/edamam.owl#Measure_serving', 'label': 'Serving', 'weight': 14.0}, {'uri': 'http://www.edamam.com/ontologies/edamam.owl#Measure_tablespoon', 'label': 'Tablespoon', 'weight': 14.2}, {'uri': 'http://www.edamam.com/ontologies/edamam.owl#Measure_cup', 'label': 'Cup', 'weight': 227.0}, {'uri': 'http://www.edamam.com/ontologies/edamam.owl#Measure_stick', 'label': 'Stick', 'weight': 113.0}, {'uri': 'http://www.edamam.com/ontologies/edamam.owl#Measure_gram', 'label': 'Gram', 'weight': 1.0}, {'uri': 'http://www.edamam.com/ontologies/edamam.owl#Measure_ounce', 'label': 'Ounce', 'weight': 28.349523125}, {'uri': 'http://www.edamam.com/ontologies/edamam.owl#Measure_pound', 'label': 'Pound', 'weight': 453.59237}, {'uri': 'http://www.edamam.com/ontologies/edamam.owl#Measure_unit', 'label': 'Whole', 'weight': 113.0}, {'uri': 'http://www.edamam.com/ontologies/edamam.owl#Measure_pat', 'label': 'Pat', 'weight': 5.0}, {'uri': 'http://www.edamam.com/ontologies/edamam.owl#Measure_kilogram', 'label': 'Kilogram', 'weight': 1000.0}, {'uri': 'http://www.edamam.com/ontologies/edamam.owl#Measure_default', 'weight': 0.0136}]}, {'food': {'foodId': 'food_blrpqo1bp94h17apq4prgbhcuhex', 'uri': 'http://www.edamam.com/ontologies/edamam.owl#Food_01002', 'label': 'Butter, Whipped, With Salt', 'knownAs': 'Butter, whipped, with salt', 'nutrients': {'ENERC_KCAL': 731.0, 'PROCNT': 0.49, 'FAT': 78.3, 'CHOCDF': 0.0, 'FIBTG': 0.0}, 'category': 'Generic foods', 'categoryLabel': 'food', 'image': 'https://www.edamam.com/food-img/ec6/ec68f0d43ed9b399c8464481f89eb225.jpg'}, 'measures': [{'uri': 'http://www.edamam.com/ontologies/edamam.owl#Measure_serving', 'label': 'Serving', 'weight': 10.0}, {'uri': 'http://www.edamam.com/ontologies/edamam.owl#Measure_stick', 'label': 'Stick', 'weight': 76.0}, {'uri': 'http://www.edamam.com/ontologies/edamam.owl#Measure_pat', 'label': 'Pat', 'weight': 3.8}, {'uri': 'http://www.edamam.com/ontologies/edamam.owl#Measure_gram', 'label': 'Gram', 'weight': 1.0}, {'uri': 'http://www.edamam.com/ontologies/edamam.owl#Measure_ounce', 'label': 'Ounce', 'weight': 28.349523125}, {'uri': 'http://www.edamam.com/ontologies/edamam.owl#Measure_pound', 'label': 'Pound', 'weight': 453.59237}, {'uri': 'http://www.edamam.com/ontologies/edamam.owl#Measure_kilogram', 'label': 'Kilogram', 'weight': 1000.0}, {'uri': 'http://www.edamam.com/ontologies/edamam.owl#Measure_tablespoon', 'label': 'Tablespoon', 'weight': 9.4}, {'uri': 'http://www.edamam.com/ontologies/edamam.owl#Measure_cup', 'label': 'Cup', 'weight': 151.0}, {'uri': 'http://www.edamam.com/ontologies/edamam.owl#Measure_default', 'weight': 0.0136}]}, {'food': {'foodId': 'food_bzaenytbm02cd4br159f4biv49jc', 'uri': 'http://www.edamam.com/ontologies/edamam.owl#Food_01003', 'label': 'Butter Oil, Anhydrous', 'knownAs': 'Butter oil, anhydrous', 'nutrients': {'ENERC_KCAL': 876.0, 'PROCNT': 0.28, 'FAT': 99.5, 'CHOCDF': 0.0, 'FIBTG': 0.0}, 'category': 'Generic foods', 'categoryLabel': 'food', 'image': 'https://www.edamam.com/food-img/2b5/2b504c036c64481b224c9d74cc4a82e0.jpg'}, 'measures': [{'uri': 'http://www.edamam.com/ontologies/edamam.owl#Measure_serving', 'label': 'Serving', 'weight': 13.0}, {'uri': 'http://www.edamam.com/ontologies/edamam.owl#Measure_tablespoon', 'label': 'Tablespoon', 'weight': 12.8}, {'uri': 'http://www.edamam.com/ontologies/edamam.owl#Measure_cup', 'label': 'Cup', 'weight': 205.0}, {'uri': 'http://www.edamam.com/ontologies/edamam.owl#Measure_gram', 'label': 'Gram', 'weight': 1.0}, {'uri': 'http://www.edamam.com/ontologies/edamam.owl#Measure_ounce', 'label': 'Ounce', 'weight': 28.349523125}, {'uri': 'http://www.edamam.com/ontologies/edamam.owl#Measure_pound', 'label': 'Pound', 'weight': 453.59237}, {'uri': 'http://www.edamam.com/ontologies/edamam.owl#Measure_kilogram', 'label': 'Kilogram', 'weight': 1000.0}, {'uri': 'http://www.edamam.com/ontologies/edamam.owl#Measure_default', 'weight': 0.0136}]}, {'food': {'foodId': 'food_aqptx2cauhjjzubmplnjna81ev33', 'uri': 'http://www.edamam.com/ontologies/edamam.owl#Food_01004', 'label': 'Cheese, Blue', 'knownAs': 'Cheese, blue', 'nutrients': {'ENERC_KCAL': 353.0, 'PROCNT': 21.4, 'FAT': 28.7, 'CHOCDF': 2.34, 'FIBTG': 0.0}, 'category': 'Generic foods', 'categoryLabel': 'food', 'image': 'https://www.edamam.com/food-img/b44/b442cfc174a1a691dca574c9b7dcb47a.jpg'}, 'measures': [{'uri': 'http://www.edamam.com/ontologies/edamam.owl#Measure_serving', 'label': 'Serving', 'weight': 30.0}, {'uri': 'http://www.edamam.com/ontologies/edamam.owl#Measure_cup', 'label': 'Cup', 'weight': 135.0, 'qualified': [{'qualifiers': [{'uri': 'http://www.edamam.com/ontologies/edamam.owl#Qualifier_crumbled', 'label': 'crumbled'}], 'weight': 135.0}]}, {'uri': 'http://www.edamam.com/ontologies/edamam.owl#Measure_ounce', 'label': 'Ounce', 'weight': 28.349523125}, {'uri': 'http://www.edamam.com/ontologies/edamam.owl#Measure_gram', 'label': 'Gram', 'weight': 1.0}, {'uri': 'http://www.edamam.com/ontologies/edamam.owl#Measure_pound', 'label': 'Pound', 'weight': 453.59237}, {'uri': 'http://www.edamam.com/ontologies/edamam.owl#Measure_unit', 'label': 'Whole', 'weight': 28.35}, {'uri': 'http://www.edamam.com/ontologies/edamam.owl#Measure_slice', 'label': 'Slice', 'weight': 28.35}, {'uri': 'http://www.edamam.com/ontologies/edamam.owl#Measure_wedge', 'label': 'Wedge', 'weight': 28.35}, {'uri': 'http://www.edamam.com/ontologies/edamam.owl#Measure_piece', 'label': 'Piece', 'weight': 28.35}, {'uri': 'http://www.edamam.com/ontologies/edamam.owl#Measure_round', 'label': 'Round', 'weight': 14.2}, {'uri': 'http://www.edamam.com/ontologies/edamam.owl#Measure_kilogram', 'label': 'Kilogram', 'weight': 1000.0}, {'uri': 'http://www.edamam.com/ontologies/edamam.owl#Measure_cubic_inch', 'label': 'Cubic inch', 'weight': 17.0}]}, {'food': {'foodId': 'food_au4tus5b092owgbiu8yama5yupfp', 'uri': 'http://www.edamam.com/ontologies/edamam.owl#Food_01005', 'label': 'Cheese, Brick', 'knownAs': 'Cheese, brick', 'nutrients': {'ENERC_KCAL': 371.0, 'PROCNT': 23.2, 'FAT': 29.7, 'CHOCDF': 2.79, 'FIBTG': 0.0}, 'category': 'Generic foods', 'categoryLabel': 'food', 'image': 'https://www.edamam.com/food-img/702/7023ac63ef897bab1f6ea399316748d7.png'}, 'measures': [{'uri': 'http://www.edamam.com/ontologies/edamam.owl#Measure_slice', 'label': 'Slice', 'weight': 28.0}, {'uri': 'http://www.edamam.com/ontologies/edamam.owl#Measure_serving', 'label': 'Serving', 'weight': 28.0}, {'uri': 'http://www.edamam.com/ontologies/edamam.owl#Measure_ounce', 'label': 'Ounce', 'weight': 28.349523125}, {'uri': 'http://www.edamam.com/ontologies/edamam.owl#Measure_cup', 'label': 'Cup', 'weight': 132.0, 'qualified': [{'qualifiers': [{'uri': 'http://www.edamam.com/ontologies/edamam.owl#Qualifier_diced', 'label': 'diced'}], 'weight': 132.0}, {'qualifiers': [{'uri': 'http://www.edamam.com/ontologies/edamam.owl#Qualifier_shredded', 'label': 'shredded'}], 'weight': 113.0}]}, {'uri': 'http://www.edamam.com/ontologies/edamam.owl#Measure_gram', 'label': 'Gram', 'weight': 1.0}, {'uri': 'http://www.edamam.com/ontologies/edamam.owl#Measure_pound', 'label': 'Pound', 'weight': 453.59237}, {'uri': 'http://www.edamam.com/ontologies/edamam.owl#Measure_kilogram', 'label': 'Kilogram', 'weight': 1000.0}, {'uri': 'http://www.edamam.com/ontologies/edamam.owl#Measure_cubic_inch', 'label': 'Cubic inch', 'weight': 17.0}]}, {'food': {'foodId': 'food_a06hreabh7agoeazgrtiobunge7b', 'uri': 'http://www.edamam.com/ontologies/edamam.owl#Food_01006', 'label': 'Cheese, Brie', 'knownAs': 'Cheese, brie', 'nutrients': {'ENERC_KCAL': 334.0, 'PROCNT': 20.8, 'FAT': 27.7, 'CHOCDF': 0.45, 'FIBTG': 0.0}, 'category': 'Generic foods', 'categoryLabel': 'food', 'image': 'https://www.edamam.com/food-img/f53/f5340600239cf508f17b167265c6a1cf.jpg'}, 'measures': [{'uri': 'http://www.edamam.com/ontologies/edamam.owl#Measure_serving', 'label': 'Serving', 'weight': 28.0}, {'uri': 'http://www.edamam.com/ontologies/edamam.owl#Measure_ounce', 'label': 'Ounce', 'weight': 28.349523125}, {'uri': 'http://www.edamam.com/ontologies/edamam.owl#Measure_unit', 'label': 'Whole', 'weight': 28.35}, {'uri': 'http://www.edamam.com/ontologies/edamam.owl#Measure_pound', 'label': 'Pound', 'weight': 453.59237}, {'uri': 'http://www.edamam.com/ontologies/edamam.owl#Measure_slice', 'label': 'Slice', 'weight': 28.35}, {'uri': 'http://www.edamam.com/ontologies/edamam.owl#Measure_gram', 'label': 'Gram', 'weight': 1.0}, {'uri': 'http://www.edamam.com/ontologies/edamam.owl#Measure_round', 'label': 'Round', 'weight': 227.0}, {'uri': 'http://www.edamam.com/ontologies/edamam.owl#Measure_cup', 'label': 'Cup', 'weight': 240.0, 'qualified': [{'qualifiers': [{'uri': 'http://www.edamam.com/ontologies/edamam.owl#Qualifier_melted', 'label': 'melted'}], 'weight': 240.0}, {'qualifiers': [{'uri': 'http://www.edamam.com/ontologies/edamam.owl#Qualifier_sliced', 'label': 'sliced'}], 'weight': 144.0}]}, {'uri': 'http://www.edamam.com/ontologies/edamam.owl#Measure_package', 'label': 'Package', 'weight': 128.0}, {'uri': 'http://www.edamam.com/ontologies/edamam.owl#Measure_piece', 'label': 'Piece', 'weight': 28.35}, {'uri': 'http://www.edamam.com/ontologies/edamam.owl#Measure_kilogram', 'label': 'Kilogram', 'weight': 1000.0}, {'uri': 'http://www.edamam.com/ontologies/edamam.owl#Measure_cubic_inch', 'label': 'Cubic inch', 'weight': 17.0}]}, {'food': {'foodId': 'food_bq1kaa2anb8wmsaj3in43bxxsjyh', 'uri': 'http://www.edamam.com/ontologies/edamam.owl#Food_01007', 'label': 'Cheese, Camembert', 'knownAs': 'Cheese, camembert', 'nutrients': {'ENERC_KCAL': 300.0, 'PROCNT': 19.8, 'FAT': 24.3, 'CHOCDF': 0.46, 'FIBTG': 0.0}, 'category': 'Generic foods', 'categoryLabel': 'food', 'image': 'https://www.edamam.com/food-img/419/419fc950e8f2a589a11d63efb28b8bef.jpg'}, 'measures': [{'uri': 'http://www.edamam.com/ontologies/edamam.owl#Measure_serving', 'label': 'Serving', 'weight': 28.0}, {'uri': 'http://www.edamam.com/ontologies/edamam.owl#Measure_ounce', 'label': 'Ounce', 'weight': 28.349523125}, {'uri': 'http://www.edamam.com/ontologies/edamam.owl#Measure_gram', 'label': 'Gram', 'weight': 1.0}, {'uri': 'http://www.edamam.com/ontologies/edamam.owl#Measure_unit', 'label': 'Whole', 'weight': 28.35}, {'uri': 'http://www.edamam.com/ontologies/edamam.owl#Measure_pound', 'label': 'Pound', 'weight': 453.59237}, {'uri': 'http://www.edamam.com/ontologies/edamam.owl#Measure_slice', 'label': 'Slice', 'weight': 28.35}, {'uri': 'http://www.edamam.com/ontologies/edamam.owl#Measure_cup', 'label': 'Cup', 'weight': 246.0}, {'uri': 'http://www.edamam.com/ontologies/edamam.owl#Measure_wedge', 'label': 'Wedge', 'weight': 38.0}, {'uri': 'http://www.edamam.com/ontologies/edamam.owl#Measure_piece', 'label': 'Piece', 'weight': 28.35}, {'uri': 'http://www.edamam.com/ontologies/edamam.owl#Measure_kilogram', 'label': 'Kilogram', 'weight': 1000.0}, {'uri': 'http://www.edamam.com/ontologies/edamam.owl#Measure_cubic_inch', 'label': 'Cubic inch', 'weight': 17.0}]}, {'food': {'foodId': 'food_a8q8p7tahfewtuajrmgcrbpxtti8', 'uri': 'http://www.edamam.com/ontologies/edamam.owl#Food_01008', 'label': 'Cheese, Caraway', 'knownAs': 'Cheese, caraway', 'nutrients': {'ENERC_KCAL': 376.0, 'PROCNT': 25.2, 'FAT': 29.2, 'CHOCDF': 3.06, 'FIBTG': 0.0}, 'category': 'Generic foods', 'categoryLabel': 'food', 'image': 'https://www.edamam.com/food-img/541/541e46e44ba61aec8bcd599df94c0eed.jpg'}, 'measures': [{'uri': 'http://www.edamam.com/ontologies/edamam.owl#Measure_serving', 'label': 'Serving', 'weight': 45.0}, {'uri': 'http://www.edamam.com/ontologies/edamam.owl#Measure_gram', 'label': 'Gram', 'weight': 1.0}, {'uri': 'http://www.edamam.com/ontologies/edamam.owl#Measure_ounce', 'label': 'Ounce', 'weight': 28.349523125}, {'uri': 'http://www.edamam.com/ontologies/edamam.owl#Measure_pound', 'label': 'Pound', 'weight': 453.59237}, {'uri': 'http://www.edamam.com/ontologies/edamam.owl#Measure_kilogram', 'label': 'Kilogram', 'weight': 1000.0}]}, {'food': {'foodId': 'food_a2b3q33bnje4iual2pba2at89tzi', 'uri': 'http://www.edamam.com/ontologies/edamam.owl#Food_01009', 'label': \"Cheese, Cheddar (Includes Foods for USDA's Food Distribution Program)\", 'knownAs': \"Cheese, cheddar (Includes foods for USDA's Food Distribution Program)\", 'nutrients': {'ENERC_KCAL': 403.0, 'PROCNT': 22.9, 'FAT': 33.3, 'CHOCDF': 3.37, 'FIBTG': 0.0}, 'category': 'Generic foods', 'categoryLabel': 'food'}, 'measures': [{'uri': 'http://www.edamam.com/ontologies/edamam.owl#Measure_slice', 'label': 'Slice', 'weight': 28.0}, {'uri': 'http://www.edamam.com/ontologies/edamam.owl#Measure_unit', 'label': 'Whole', 'weight': 28.0}, {'uri': 'http://www.edamam.com/ontologies/edamam.owl#Measure_block', 'label': 'Block', 'weight': 28.0}, {'uri': 'http://www.edamam.com/ontologies/edamam.owl#Measure_piece', 'label': 'Piece', 'weight': 28.0}, {'uri': 'http://www.edamam.com/ontologies/edamam.owl#Measure_serving', 'label': 'Serving', 'weight': 28.0}, {'uri': 'http://www.edamam.com/ontologies/edamam.owl#Measure_cup', 'label': 'Cup', 'weight': 132.0, 'qualified': [{'qualifiers': [{'uri': 'http://www.edamam.com/ontologies/edamam.owl#Qualifier_diced', 'label': 'diced'}], 'weight': 132.0}, {'qualifiers': [{'uri': 'http://www.edamam.com/ontologies/edamam.owl#Qualifier_shredded', 'label': 'shredded'}], 'weight': 113.0}, {'qualifiers': [{'uri': 'http://www.edamam.com/ontologies/edamam.owl#Qualifier_melted', 'label': 'melted'}], 'weight': 244.0}]}, {'uri': 'http://www.edamam.com/ontologies/edamam.owl#Measure_ounce', 'label': 'Ounce', 'weight': 28.349523125}, {'uri': 'http://www.edamam.com/ontologies/edamam.owl#Measure_gram', 'label': 'Gram', 'weight': 1.0}, {'uri': 'http://www.edamam.com/ontologies/edamam.owl#Measure_pound', 'label': 'Pound', 'weight': 453.59237}, {'uri': 'http://www.edamam.com/ontologies/edamam.owl#Measure_package', 'label': 'Package', 'weight': 198.0}, {'uri': 'http://www.edamam.com/ontologies/edamam.owl#Measure_chip', 'label': 'Chip', 'weight': 10.0}, {'uri': 'http://www.edamam.com/ontologies/edamam.owl#Measure_kilogram', 'label': 'Kilogram', 'weight': 1000.0}, {'uri': 'http://www.edamam.com/ontologies/edamam.owl#Measure_cubic_inch', 'label': 'Cubic inch', 'weight': 17.0}]}, {'food': {'foodId': 'food_b4g9w0dboo05sdaxwu1n9a3b4emv', 'uri': 'http://www.edamam.com/ontologies/edamam.owl#Food_01010', 'label': 'Cheese, Cheshire', 'knownAs': 'Cheese, cheshire', 'nutrients': {'ENERC_KCAL': 387.0, 'PROCNT': 23.4, 'FAT': 30.6, 'CHOCDF': 4.78, 'FIBTG': 0.0}, 'category': 'Generic foods', 'categoryLabel': 'food', 'image': 'https://www.edamam.com/food-img/9e4/9e4ffc57473590221cb97ccf5354e42b.jpg'}, 'measures': [{'uri': 'http://www.edamam.com/ontologies/edamam.owl#Measure_serving', 'label': 'Serving', 'weight': 120.0}, {'uri': 'http://www.edamam.com/ontologies/edamam.owl#Measure_gram', 'label': 'Gram', 'weight': 1.0}, {'uri': 'http://www.edamam.com/ontologies/edamam.owl#Measure_ounce', 'label': 'Ounce', 'weight': 28.349523125}, {'uri': 'http://www.edamam.com/ontologies/edamam.owl#Measure_pound', 'label': 'Pound', 'weight': 453.59237}, {'uri': 'http://www.edamam.com/ontologies/edamam.owl#Measure_kilogram', 'label': 'Kilogram', 'weight': 1000.0}]}, {'food': {'foodId': 'food_a5ylefeb5r30eibjj4mqubdc09z1', 'uri': 'http://www.edamam.com/ontologies/edamam.owl#Food_01011', 'label': 'Cheese, Colby', 'knownAs': 'Cheese, colby', 'nutrients': {'ENERC_KCAL': 394.0, 'PROCNT': 23.8, 'FAT': 32.1, 'CHOCDF': 2.57, 'FIBTG': 0.0}, 'category': 'Generic foods', 'categoryLabel': 'food', 'image': 'https://www.edamam.com/food-img/a6a/a6a3cb346882b674c5b5086352644ec5.jpg'}, 'measures': [{'uri': 'http://www.edamam.com/ontologies/edamam.owl#Measure_cup', 'label': 'Cup', 'weight': 132.0, 'qualified': [{'qualifiers': [{'uri': 'http://www.edamam.com/ontologies/edamam.owl#Qualifier_shredded', 'label': 'shredded'}], 'weight': 113.0}, {'qualifiers': [{'uri': 'http://www.edamam.com/ontologies/edamam.owl#Qualifier_diced', 'label': 'diced'}], 'weight': 132.0}]}, {'uri': 'http://www.edamam.com/ontologies/edamam.owl#Measure_ounce', 'label': 'Ounce', 'weight': 28.349523125}, {'uri': 'http://www.edamam.com/ontologies/edamam.owl#Measure_slice', 'label': 'Slice', 'weight': 28.0}, {'uri': 'http://www.edamam.com/ontologies/edamam.owl#Measure_pound', 'label': 'Pound', 'weight': 453.59237}, {'uri': 'http://www.edamam.com/ontologies/edamam.owl#Measure_unit', 'label': 'Whole', 'weight': 28.0}, {'uri': 'http://www.edamam.com/ontologies/edamam.owl#Measure_gram', 'label': 'Gram', 'weight': 1.0}, {'uri': 'http://www.edamam.com/ontologies/edamam.owl#Measure_piece', 'label': 'Piece', 'weight': 28.0}, {'uri': 'http://www.edamam.com/ontologies/edamam.owl#Measure_kilogram', 'label': 'Kilogram', 'weight': 1000.0}, {'uri': 'http://www.edamam.com/ontologies/edamam.owl#Measure_cubic_inch', 'label': 'Cubic inch', 'weight': 17.0}]}, {'food': {'foodId': 'food_abw09jebwny3g6bb7jvn0bbalare', 'uri': 'http://www.edamam.com/ontologies/edamam.owl#Food_01012', 'label': 'Cheese, Cottage, Creamed, Large or Small Curd', 'knownAs': 'Cheese, cottage, creamed, large or small curd', 'nutrients': {'ENERC_KCAL': 98.0, 'PROCNT': 11.1, 'FAT': 4.3, 'CHOCDF': 3.38, 'FIBTG': 0.0}, 'category': 'Generic foods', 'categoryLabel': 'food', 'image': 'https://www.edamam.com/food-img/8ee/8ee7b75071fc907cce2819031a9ae563.jpg'}, 'measures': [{'uri': 'http://www.edamam.com/ontologies/edamam.owl#Measure_serving', 'label': 'Serving', 'weight': 118.0}, {'uri': 'http://www.edamam.com/ontologies/edamam.owl#Measure_cup', 'label': 'Cup', 'weight': 225.0, 'qualified': [{'qualifiers': [{'uri': 'http://www.edamam.com/ontologies/edamam.owl#Qualifier_large', 'label': 'large'}], 'weight': 210.0}, {'qualifiers': [{'uri': 'http://www.edamam.com/ontologies/edamam.owl#Qualifier_small', 'label': 'small'}], 'weight': 225.0}]}, {'uri': 'http://www.edamam.com/ontologies/edamam.owl#Measure_ounce', 'label': 'Ounce', 'weight': 28.349523125}, {'uri': 'http://www.edamam.com/ontologies/edamam.owl#Measure_gram', 'label': 'Gram', 'weight': 1.0}, {'uri': 'http://www.edamam.com/ontologies/edamam.owl#Measure_tablespoon', 'label': 'Tablespoon', 'weight': 13.1249999997781}, {'uri': 'http://www.edamam.com/ontologies/edamam.owl#Measure_pound', 'label': 'Pound', 'weight': 453.59237}, {'uri': 'http://www.edamam.com/ontologies/edamam.owl#Measure_kilogram', 'label': 'Kilogram', 'weight': 1000.0}]}, {'food': {'foodId': 'food_apqi15daozoc8oacpl41rallrou9', 'uri': 'http://www.edamam.com/ontologies/edamam.owl#Food_01013', 'label': 'Cheese, Cottage, Creamed, With Fruit', 'knownAs': 'Cheese, cottage, creamed, with fruit', 'nutrients': {'ENERC_KCAL': 97.0, 'PROCNT': 10.7, 'FAT': 3.85, 'CHOCDF': 4.61, 'FIBTG': 0.2}, 'category': 'Generic foods', 'categoryLabel': 'food', 'image': 'https://www.edamam.com/food-img/6a3/6a34798287bc5e41e2328a5973695f38.jpg'}, 'measures': [{'uri': 'http://www.edamam.com/ontologies/edamam.owl#Measure_gram', 'label': 'Gram', 'weight': 1.0}, {'uri': 'http://www.edamam.com/ontologies/edamam.owl#Measure_ounce', 'label': 'Ounce', 'weight': 28.349523125}, {'uri': 'http://www.edamam.com/ontologies/edamam.owl#Measure_pound', 'label': 'Pound', 'weight': 453.59237}, {'uri': 'http://www.edamam.com/ontologies/edamam.owl#Measure_kilogram', 'label': 'Kilogram', 'weight': 1000.0}, {'uri': 'http://www.edamam.com/ontologies/edamam.owl#Measure_cup', 'label': 'Cup', 'weight': 226.0}]}, {'food': {'foodId': 'food_b0nmp6gaermj0aad3mf7iararumu', 'uri': 'http://www.edamam.com/ontologies/edamam.owl#Food_01014', 'label': 'Cheese, Cottage, Nonfat, Uncreamed, Dry, Large or Small Curd', 'knownAs': 'Cheese, cottage, nonfat, uncreamed, dry, large or small curd', 'nutrients': {'ENERC_KCAL': 72.0, 'PROCNT': 10.3, 'FAT': 0.29, 'CHOCDF': 6.66, 'FIBTG': 0.0}, 'category': 'Generic foods', 'categoryLabel': 'food', 'image': 'https://www.edamam.com/food-img/f28/f28c23a0ce83d037a5c27401e4ce41e9.jpg'}, 'measures': [{'uri': 'http://www.edamam.com/ontologies/edamam.owl#Measure_serving', 'label': 'Serving', 'weight': 73.0}, {'uri': 'http://www.edamam.com/ontologies/edamam.owl#Measure_cup', 'label': 'Cup', 'weight': 145.0}, {'uri': 'http://www.edamam.com/ontologies/edamam.owl#Measure_ounce', 'label': 'Ounce', 'weight': 28.349523125}, {'uri': 'http://www.edamam.com/ontologies/edamam.owl#Measure_gram', 'label': 'Gram', 'weight': 1.0}, {'uri': 'http://www.edamam.com/ontologies/edamam.owl#Measure_pound', 'label': 'Pound', 'weight': 453.59237}, {'uri': 'http://www.edamam.com/ontologies/edamam.owl#Measure_kilogram', 'label': 'Kilogram', 'weight': 1000.0}, {'uri': 'http://www.edamam.com/ontologies/edamam.owl#Measure_tablespoon', 'label': 'Tablespoon', 'weight': 9.06249999984678}]}, {'food': {'foodId': 'food_a78om83aro60t5a4wpm8hbf3239s', 'uri': 'http://www.edamam.com/ontologies/edamam.owl#Food_01015', 'label': 'Cheese, Cottage, Lowfat, 2% Milkfat', 'knownAs': 'Cheese, cottage, lowfat, 2% milkfat', 'nutrients': {'ENERC_KCAL': 81.0, 'PROCNT': 10.4, 'FAT': 2.27, 'CHOCDF': 4.76, 'FIBTG': 0.0}, 'category': 'Generic foods', 'categoryLabel': 'food', 'image': 'https://www.edamam.com/food-img/046/046c46348bde2b7af7da40196a1c942e.jpg'}, 'measures': [{'uri': 'http://www.edamam.com/ontologies/edamam.owl#Measure_serving', 'label': 'Serving', 'weight': 60.0}, {'uri': 'http://www.edamam.com/ontologies/edamam.owl#Measure_cup', 'label': 'Cup', 'weight': 226.0}, {'uri': 'http://www.edamam.com/ontologies/edamam.owl#Measure_ounce', 'label': 'Ounce', 'weight': 28.349523125}, {'uri': 'http://www.edamam.com/ontologies/edamam.owl#Measure_tablespoon', 'label': 'Tablespoon', 'weight': 14.1249999997612}, {'uri': 'http://www.edamam.com/ontologies/edamam.owl#Measure_gram', 'label': 'Gram', 'weight': 1.0}, {'uri': 'http://www.edamam.com/ontologies/edamam.owl#Measure_pound', 'label': 'Pound', 'weight': 453.59237}, {'uri': 'http://www.edamam.com/ontologies/edamam.owl#Measure_kilogram', 'label': 'Kilogram', 'weight': 1000.0}]}, {'food': {'foodId': 'food_bowtx9kb5cpt8yb6qswcga80ycli', 'uri': 'http://www.edamam.com/ontologies/edamam.owl#Food_01016', 'label': 'Cheese, Cottage, Lowfat, 1% Milkfat', 'knownAs': 'Cheese, cottage, lowfat, 1% milkfat', 'nutrients': {'ENERC_KCAL': 72.0, 'PROCNT': 12.4, 'FAT': 1.02, 'CHOCDF': 2.72, 'FIBTG': 0.0}, 'category': 'Generic foods', 'categoryLabel': 'food', 'image': 'https://www.edamam.com/food-img/c18/c18b96dafd232cbddb9bbb05c2ab8e3b.jpg'}, 'measures': [{'uri': 'http://www.edamam.com/ontologies/edamam.owl#Measure_cup', 'label': 'Cup', 'weight': 226.0}, {'uri': 'http://www.edamam.com/ontologies/edamam.owl#Measure_ounce', 'label': 'Ounce', 'weight': 28.349523125}, {'uri': 'http://www.edamam.com/ontologies/edamam.owl#Measure_gram', 'label': 'Gram', 'weight': 1.0}, {'uri': 'http://www.edamam.com/ontologies/edamam.owl#Measure_pound', 'label': 'Pound', 'weight': 453.59237}, {'uri': 'http://www.edamam.com/ontologies/edamam.owl#Measure_kilogram', 'label': 'Kilogram', 'weight': 1000.0}, {'uri': 'http://www.edamam.com/ontologies/edamam.owl#Measure_tablespoon', 'label': 'Tablespoon', 'weight': 14.1249999997612}]}, {'food': {'foodId': 'food_a5oa9cnaawyx9uang44bka8467or', 'uri': 'http://www.edamam.com/ontologies/edamam.owl#Food_01017', 'label': 'Cheese, Cream', 'knownAs': 'Cheese, cream', 'nutrients': {'ENERC_KCAL': 350.0, 'PROCNT': 6.15, 'FAT': 34.4, 'CHOCDF': 5.52, 'FIBTG': 0.0}, 'category': 'Generic foods', 'categoryLabel': 'food', 'image': 'https://www.edamam.com/food-img/ddd/dddce306e7ee41e8e07dc62e28cab94b.jpg'}, 'measures': [{'uri': 'http://www.edamam.com/ontologies/edamam.owl#Measure_serving', 'label': 'Serving', 'weight': 30.0}, {'uri': 'http://www.edamam.com/ontologies/edamam.owl#Measure_ounce', 'label': 'Ounce', 'weight': 28.349523125}, {'uri': 'http://www.edamam.com/ontologies/edamam.owl#Measure_cup', 'label': 'Cup', 'weight': 232.0}, {'uri': 'http://www.edamam.com/ontologies/edamam.owl#Measure_unit', 'label': 'Whole', 'weight': 113.33333333333333, 'qualified': [{'qualifiers': [{'uri': 'http://www.edamam.com/ontologies/edamam.owl#Qualifier_small', 'label': 'small'}], 'weight': 85.0}]}, {'uri': 'http://www.edamam.com/ontologies/edamam.owl#Measure_gram', 'label': 'Gram', 'weight': 1.0}, {'uri': 'http://www.edamam.com/ontologies/edamam.owl#Measure_tablespoon', 'label': 'Tablespoon', 'weight': 14.5, 'qualified': [{'qualifiers': [{'uri': 'http://www.edamam.com/ontologies/edamam.owl#LanguaL_H0358', 'label': 'AERATED BY WHIPPING'}], 'weight': 10.0}]}, {'uri': 'http://www.edamam.com/ontologies/edamam.owl#Measure_pound', 'label': 'Pound', 'weight': 453.59237}, {'uri': 'http://www.edamam.com/ontologies/edamam.owl#Measure_package', 'label': 'Package', 'weight': 85.0, 'qualified': [{'qualifiers': [{'uri': 'http://www.edamam.com/ontologies/edamam.owl#Qualifier_small', 'label': 'small'}], 'weight': 85.0}]}, {'uri': 'http://www.edamam.com/ontologies/edamam.owl#Measure_kilogram', 'label': 'Kilogram', 'weight': 1000.0}, {'uri': 'http://www.edamam.com/ontologies/edamam.owl#Measure_slab', 'label': 'Slab', 'weight': 28.35}, {'uri': 'http://www.edamam.com/ontologies/edamam.owl#Measure_cubic_inch', 'label': 'Cubic inch', 'weight': 16.0}]}, {'food': {'foodId': 'food_ax6ocbjas0levpb3nl0n7auzwy0i', 'uri': 'http://www.edamam.com/ontologies/edamam.owl#Food_01018', 'label': 'Cheese, Edam', 'knownAs': 'Cheese, edam', 'nutrients': {'ENERC_KCAL': 357.0, 'PROCNT': 25.0, 'FAT': 28.6, 'CHOCDF': 1.43, 'FIBTG': 0.0}, 'category': 'Generic foods', 'categoryLabel': 'food', 'image': 'https://www.edamam.com/food-img/2df/2dfa711cc6aff6e4d3bfefb4814f4cb4.jpg'}, 'measures': [{'uri': 'http://www.edamam.com/ontologies/edamam.owl#Measure_serving', 'label': 'Serving', 'weight': 60.0}, {'uri': 'http://www.edamam.com/ontologies/edamam.owl#Measure_gram', 'label': 'Gram', 'weight': 1.0}, {'uri': 'http://www.edamam.com/ontologies/edamam.owl#Measure_ounce', 'label': 'Ounce', 'weight': 28.349523125}, {'uri': 'http://www.edamam.com/ontologies/edamam.owl#Measure_package', 'label': 'Package', 'weight': 198.0}, {'uri': 'http://www.edamam.com/ontologies/edamam.owl#Measure_pound', 'label': 'Pound', 'weight': 453.59237}, {'uri': 'http://www.edamam.com/ontologies/edamam.owl#Measure_kilogram', 'label': 'Kilogram', 'weight': 1000.0}]}, {'food': {'foodId': 'food_ba6vmpsbtteeyabi8t2i8bwzl13d', 'uri': 'http://www.edamam.com/ontologies/edamam.owl#Food_01019', 'label': 'Cheese, Feta', 'knownAs': 'Cheese, feta', 'nutrients': {'ENERC_KCAL': 265.0, 'PROCNT': 14.2, 'FAT': 21.5, 'CHOCDF': 3.88, 'FIBTG': 0.0}, 'category': 'Generic foods', 'categoryLabel': 'food', 'image': 'https://www.edamam.com/food-img/37e/37ef3e404b1c02bf4707cb82010732b8.jpg'}, 'measures': [{'uri': 'http://www.edamam.com/ontologies/edamam.owl#Measure_serving', 'label': 'Serving', 'weight': 38.0}, {'uri': 'http://www.edamam.com/ontologies/edamam.owl#Measure_wedge', 'label': 'Wedge', 'weight': 38.0}, {'uri': 'http://www.edamam.com/ontologies/edamam.owl#Measure_cup', 'label': 'Cup', 'weight': 150.0, 'qualified': [{'qualifiers': [{'uri': 'http://www.edamam.com/ontologies/edamam.owl#Qualifier_crumbled', 'label': 'crumbled'}], 'weight': 150.0}]}, {'uri': 'http://www.edamam.com/ontologies/edamam.owl#Measure_ounce', 'label': 'Ounce', 'weight': 28.349523125}, {'uri': 'http://www.edamam.com/ontologies/edamam.owl#Measure_gram', 'label': 'Gram', 'weight': 1.0}, {'uri': 'http://www.edamam.com/ontologies/edamam.owl#Measure_pound', 'label': 'Pound', 'weight': 453.59237}, {'uri': 'http://www.edamam.com/ontologies/edamam.owl#Measure_unit', 'label': 'Whole', 'weight': 28.35}, {'uri': 'http://www.edamam.com/ontologies/edamam.owl#Measure_slice', 'label': 'Slice', 'weight': 28.35}, {'uri': 'http://www.edamam.com/ontologies/edamam.owl#Measure_package', 'label': 'Package', 'weight': 198.0}, {'uri': 'http://www.edamam.com/ontologies/edamam.owl#Measure_cube', 'label': 'Cube', 'weight': 28.0}, {'uri': 'http://www.edamam.com/ontologies/edamam.owl#Measure_piece', 'label': 'Piece', 'weight': 28.0}, {'uri': 'http://www.edamam.com/ontologies/edamam.owl#Measure_kilogram', 'label': 'Kilogram', 'weight': 1000.0}, {'uri': 'http://www.edamam.com/ontologies/edamam.owl#Measure_cubic_inch', 'label': 'Cubic inch', 'weight': 17.0}]}, {'food': {'foodId': 'food_a9n6dlcb168fzqb5qrkp9a7oy4jp', 'uri': 'http://www.edamam.com/ontologies/edamam.owl#Food_01020', 'label': 'Cheese, Fontina', 'knownAs': 'Cheese, fontina', 'nutrients': {'ENERC_KCAL': 389.0, 'PROCNT': 25.6, 'FAT': 31.1, 'CHOCDF': 1.55, 'FIBTG': 0.0}, 'category': 'Generic foods', 'categoryLabel': 'food', 'image': 'https://www.edamam.com/food-img/0ac/0acf62d2ccdf71b1c03e13115f6cc002.jpg'}, 'measures': [{'uri': 'http://www.edamam.com/ontologies/edamam.owl#Measure_serving', 'label': 'Serving', 'weight': 60.0}, {'uri': 'http://www.edamam.com/ontologies/edamam.owl#Measure_cup', 'label': 'Cup', 'weight': 132.0, 'qualified': [{'qualifiers': [{'uri': 'http://www.edamam.com/ontologies/edamam.owl#Qualifier_diced', 'label': 'diced'}], 'weight': 132.0}, {'qualifiers': [{'uri': 'http://www.edamam.com/ontologies/edamam.owl#Qualifier_shredded', 'label': 'shredded'}], 'weight': 108.0}]}, {'uri': 'http://www.edamam.com/ontologies/edamam.owl#Measure_ounce', 'label': 'Ounce', 'weight': 28.349523125}, {'uri': 'http://www.edamam.com/ontologies/edamam.owl#Measure_pound', 'label': 'Pound', 'weight': 453.59237}, {'uri': 'http://www.edamam.com/ontologies/edamam.owl#Measure_slice', 'label': 'Slice', 'weight': 28.0}, {'uri': 'http://www.edamam.com/ontologies/edamam.owl#Measure_gram', 'label': 'Gram', 'weight': 1.0}, {'uri': 'http://www.edamam.com/ontologies/edamam.owl#Measure_unit', 'label': 'Whole', 'weight': 28.0}, {'uri': 'http://www.edamam.com/ontologies/edamam.owl#Measure_cube', 'label': 'Cube', 'weight': 28.0}, {'uri': 'http://www.edamam.com/ontologies/edamam.owl#Measure_piece', 'label': 'Piece', 'weight': 28.0}, {'uri': 'http://www.edamam.com/ontologies/edamam.owl#Measure_round', 'label': 'Round', 'weight': 14.2}, {'uri': 'http://www.edamam.com/ontologies/edamam.owl#Measure_package', 'label': 'Package', 'weight': 227.0}, {'uri': 'http://www.edamam.com/ontologies/edamam.owl#Measure_kilogram', 'label': 'Kilogram', 'weight': 1000.0}, {'uri': 'http://www.edamam.com/ontologies/edamam.owl#Measure_cubic_inch', 'label': 'Cubic inch', 'weight': 15.0}]}], '_links': {'next': {'title': 'Next page', 'href': 'https://api.edamam.com/api/food-database/v2/parser?session=40&app_key=69d004c3e3c5b967261e625baea627fc&category%5B0%5D=generic-foods&health%5B0%5D=alcohol-free&app_id=85b409cf&nutrition-type=cooking'}}}\n"
     ]
    }
   ],
   "source": [
    "url = \"https://edamam-food-and-grocery-database.p.rapidapi.com/api/food-database/v2/parser\"\n",
    "\n",
    "querystring = {\"nutrition-type\":\"cooking\",\"category[0]\":\"generic-foods\",\"health[0]\":\"alcohol-free\"}\n",
    "\n",
    "headers = {\n",
    "\t\"X-RapidAPI-Key\": \"4f03f5d8e3msh960222cd30adde9p17b8abjsn3511ddad03aa\",\n",
    "\t\"X-RapidAPI-Host\": \"edamam-food-and-grocery-database.p.rapidapi.com\"\n",
    "}\n",
    "\n",
    "response = requests.get(url, headers=headers, params=querystring)\n",
    "\n",
    "print(response.json())"
   ]
  },
  {
   "cell_type": "markdown",
   "id": "e2fb81bb-e2f1-4c83-9478-f20b14c3c124",
   "metadata": {},
   "source": [
    "# Collecte des informations sur les produits à base de \"champagne\""
   ]
  },
  {
   "cell_type": "code",
   "execution_count": 3,
   "id": "1a066d08-6886-4f4c-8224-a2521b2079f8",
   "metadata": {},
   "outputs": [
    {
     "name": "stdout",
     "output_type": "stream",
     "text": [
      "Les données ont été enregistrées dans 'champagne_products.csv'.\n"
     ]
    }
   ],
   "source": [
    "import requests\n",
    "import csv\n",
    "\n",
    "url = \"https://edamam-food-and-grocery-database.p.rapidapi.com/api/food-database/v2/parser\"\n",
    "querystring = {\"ingr\": \"champagne\"}\n",
    "headers = {\n",
    "    \"X-RapidAPI-Key\": \"4f03f5d8e3msh960222cd30adde9p17b8abjsn3511ddad03aa\",\n",
    "    \"X-RapidAPI-Host\": \"edamam-food-and-grocery-database.p.rapidapi.com\"\n",
    "}\n",
    "\n",
    "response = requests.get(url, headers=headers, params=querystring)\n",
    "data = response.json()\n",
    "\n",
    "# Ouverture d'un fichier CSV pour écrire les données des produits\n",
    "with open('Data/champagne_products.csv', mode='w', newline='', encoding='utf-8') as file:\n",
    "    writer = csv.writer(file)\n",
    "    writer.writerow(['foodId', 'label', 'category', 'foodContentsLabel', 'image'])\n",
    "\n",
    "    # Extraction des données de 'parsed'\n",
    "    for item in data.get('parsed', []):\n",
    "        food = item.get('food', {})\n",
    "        foodId = food.get('foodId', '')\n",
    "        label = food.get('label', '')\n",
    "        category = food.get('category', '')\n",
    "        foodContentsLabel = food.get('foodContentsLabel', '')\n",
    "        image = food.get('image', '')\n",
    "        writer.writerow([foodId, label, category, foodContentsLabel, image])\n",
    "\n",
    "    # Extraction des données de 'hints'\n",
    "    for item in data.get('hints', []):\n",
    "        food = item.get('food', {})\n",
    "        foodId = food.get('foodId', '')\n",
    "        label = food.get('label', '')\n",
    "        category = food.get('category', '')\n",
    "        foodContentsLabel = food.get('foodContentsLabel', '')\n",
    "        image = food.get('image', '')\n",
    "        writer.writerow([foodId, label, category, foodContentsLabel, image])\n",
    "\n",
    "print(\"Les données ont été enregistrées dans 'champagne_products.csv'\")"
   ]
  },
  {
   "cell_type": "code",
   "execution_count": 4,
   "id": "0f85bc55-da9c-44b8-a7f0-3937d62f231e",
   "metadata": {
    "scrolled": true
   },
   "outputs": [
    {
     "name": "stdout",
     "output_type": "stream",
     "text": [
      "{'text': 'champagne', 'parsed': [{'food': {'foodId': 'food_a656mk2a5dmqb2adiamu6beihduu', 'uri': 'http://www.edamam.com/ontologies/edamam.owl#Food_table_white_wine', 'label': 'Champagne', 'knownAs': 'dry white wine', 'nutrients': {'ENERC_KCAL': 82.0, 'PROCNT': 0.07, 'FAT': 0.0, 'CHOCDF': 2.6, 'FIBTG': 0.0}, 'category': 'Generic foods', 'categoryLabel': 'food', 'image': 'https://www.edamam.com/food-img/a71/a718cf3c52add522128929f1f324d2ab.jpg'}}], 'hints': [{'food': {'foodId': 'food_a656mk2a5dmqb2adiamu6beihduu', 'uri': 'http://www.edamam.com/ontologies/edamam.owl#Food_table_white_wine', 'label': 'Champagne', 'knownAs': 'dry white wine', 'nutrients': {'ENERC_KCAL': 82.0, 'PROCNT': 0.07, 'FAT': 0.0, 'CHOCDF': 2.6, 'FIBTG': 0.0}, 'category': 'Generic foods', 'categoryLabel': 'food', 'image': 'https://www.edamam.com/food-img/a71/a718cf3c52add522128929f1f324d2ab.jpg'}, 'measures': [{'uri': 'http://www.edamam.com/ontologies/edamam.owl#Measure_serving', 'label': 'Serving', 'weight': 147.0}, {'uri': 'http://www.edamam.com/ontologies/edamam.owl#Measure_unit', 'label': 'Whole', 'weight': 750.0}, {'uri': 'http://www.edamam.com/ontologies/edamam.owl#Measure_splash', 'label': 'Splash', 'weight': 84.0}, {'uri': 'http://www.edamam.com/ontologies/edamam.owl#Measure_gram', 'label': 'Gram', 'weight': 1.0}, {'uri': 'http://www.edamam.com/ontologies/edamam.owl#Measure_ounce', 'label': 'Ounce', 'weight': 28.349523125}, {'uri': 'http://www.edamam.com/ontologies/edamam.owl#Measure_pound', 'label': 'Pound', 'weight': 453.59237}, {'uri': 'http://www.edamam.com/ontologies/edamam.owl#Measure_kilogram', 'label': 'Kilogram', 'weight': 1000.0}, {'uri': 'http://www.edamam.com/ontologies/edamam.owl#Measure_cup', 'label': 'Cup', 'weight': 235.2}, {'uri': 'http://www.edamam.com/ontologies/edamam.owl#Measure_bottle', 'label': 'Bottle', 'weight': 745.599200575638}, {'uri': 'http://www.edamam.com/ontologies/edamam.owl#Measure_fluid_ounce', 'label': 'Fluid ounce', 'weight': 29.4}]}, {'food': {'foodId': 'food_b753ithamdb8psbt0w2k9aquo06c', 'uri': 'http://www.edamam.com/ontologies/edamam.owl#Food_FDCBR_744058', 'label': 'Champagne Vinaigrette, Champagne', 'knownAs': 'CHAMPAGNE VINAIGRETTE, CHAMPAGNE', 'nutrients': {'ENERC_KCAL': 571.0, 'PROCNT': 0.0, 'FAT': 64.29000091552734, 'CHOCDF': 7.139999866485596}, 'brand': 'SoFine Food', 'category': 'Packaged foods', 'categoryLabel': 'food', 'foodContentsLabel': 'OLIVE OIL; BALSAMIC VINEGAR; CHAMPAGNE VINEGAR; GARLIC; DIJON MUSTARD; SEA SALT.', 'servingSizes': [{'uri': 'http://www.edamam.com/ontologies/edamam.owl#Measure_gram', 'label': 'Gram', 'quantity': 14.0}, {'uri': 'http://www.edamam.com/ontologies/edamam.owl#Measure_tablespoon', 'label': 'Tablespoon', 'quantity': 1.0}]}, 'measures': [{'uri': 'http://www.edamam.com/ontologies/edamam.owl#Measure_serving', 'label': 'Serving', 'weight': 14.0}, {'uri': 'http://www.edamam.com/ontologies/edamam.owl#Measure_tablespoon', 'label': 'Tablespoon', 'weight': 14.0}, {'uri': 'http://www.edamam.com/ontologies/edamam.owl#Measure_gram', 'label': 'Gram', 'weight': 1.0}, {'uri': 'http://www.edamam.com/ontologies/edamam.owl#Measure_ounce', 'label': 'Ounce', 'weight': 28.349523125}, {'uri': 'http://www.edamam.com/ontologies/edamam.owl#Measure_pound', 'label': 'Pound', 'weight': 453.59237}, {'uri': 'http://www.edamam.com/ontologies/edamam.owl#Measure_kilogram', 'label': 'Kilogram', 'weight': 1000.0}]}, {'food': {'foodId': 'food_b3dyababjo54xobm6r8jzbghjgqe', 'uri': 'http://www.edamam.com/ontologies/edamam.owl#Food_FDCBR_1069751', 'label': 'Champagne Vinaigrette, Champagne', 'knownAs': 'CHAMPAGNE VINAIGRETTE, CHAMPAGNE', 'nutrients': {'ENERC_KCAL': 333.0, 'PROCNT': 0.0, 'FAT': 36.66999816894531, 'CHOCDF': 6.670000076293945}, 'brand': 'Maple Grove Farms Of Vermont Inc.', 'category': 'Packaged foods', 'categoryLabel': 'food', 'foodContentsLabel': 'INGREDIENTS: WATER; CANOLA OIL; CHAMPAGNE VINEGAR; SUGAR; OLIVE OIL; SALT; DRIED GARLIC; DRED SHALLOTS; BLACK PEPPER; XANTHAN GUM; SPICE', 'image': 'https://www.edamam.com/food-img/d88/d88b64d97349ed062368972113124e35.jpg', 'servingSizes': [{'uri': 'http://www.edamam.com/ontologies/edamam.owl#Measure_milliliter', 'label': 'Milliliter', 'quantity': 30.0}, {'uri': 'http://www.edamam.com/ontologies/edamam.owl#Measure_tablespoon', 'label': 'Tablespoon', 'quantity': 2.0}], 'servingsPerContainer': 12.000000000000002}, 'measures': [{'uri': 'http://www.edamam.com/ontologies/edamam.owl#Measure_serving', 'label': 'Serving', 'weight': 29.573529562}, {'uri': 'http://www.edamam.com/ontologies/edamam.owl#Measure_package', 'label': 'Package', 'weight': 354.88235474400005}, {'uri': 'http://www.edamam.com/ontologies/edamam.owl#Measure_gram', 'label': 'Gram', 'weight': 1.0}, {'uri': 'http://www.edamam.com/ontologies/edamam.owl#Measure_ounce', 'label': 'Ounce', 'weight': 28.349523125}, {'uri': 'http://www.edamam.com/ontologies/edamam.owl#Measure_pound', 'label': 'Pound', 'weight': 453.59237}, {'uri': 'http://www.edamam.com/ontologies/edamam.owl#Measure_kilogram', 'label': 'Kilogram', 'weight': 1000.0}, {'uri': 'http://www.edamam.com/ontologies/edamam.owl#Measure_tablespoon', 'label': 'Tablespoon', 'weight': 14.786764781}, {'uri': 'http://www.edamam.com/ontologies/edamam.owl#Measure_milliliter', 'label': 'Milliliter', 'weight': 0.9857843187333334}]}, {'food': {'foodId': 'food_a9e0ghsamvoc45bwa2ybsa3gken9', 'uri': 'http://www.edamam.com/ontologies/edamam.owl#Food_FDCBR_898926', 'label': 'Champagne Vinaigrette, Champagne', 'knownAs': 'CHAMPAGNE VINAIGRETTE, CHAMPAGNE', 'nutrients': {'ENERC_KCAL': 500.0, 'PROCNT': 0.0, 'FAT': 50.0, 'CHOCDF': 6.670000076293945}, 'brand': 'T. Marzetti Company', 'category': 'Packaged foods', 'categoryLabel': 'food', 'foodContentsLabel': 'CANOLA AND SOYBEAN OIL; WHITE WINE (CONTAINS SULFITES); WATER; VINEGARS (CHAMPAGNE AND WHITE WINE); SUGAR; SALT; MUSTARD SEED; MONOSODIUM GLUTAMATE; GARLIC*; ONION*; SPICE; XANTHAN GUM; MOLASSES; CALCIUM DISODIUM EDTA ADDED TO PROTECT FLAVOR; CHIVES*; TAMARIND; NATURAL FLAVOR.', 'servingSizes': [{'uri': 'http://www.edamam.com/ontologies/edamam.owl#Measure_gram', 'label': 'Gram', 'quantity': 30.0}, {'uri': 'http://www.edamam.com/ontologies/edamam.owl#Measure_tablespoon', 'label': 'Tablespoon', 'quantity': 2.0}]}, 'measures': [{'uri': 'http://www.edamam.com/ontologies/edamam.owl#Measure_serving', 'label': 'Serving', 'weight': 30.0}, {'uri': 'http://www.edamam.com/ontologies/edamam.owl#Measure_gram', 'label': 'Gram', 'weight': 1.0}, {'uri': 'http://www.edamam.com/ontologies/edamam.owl#Measure_ounce', 'label': 'Ounce', 'weight': 28.349523125}, {'uri': 'http://www.edamam.com/ontologies/edamam.owl#Measure_pound', 'label': 'Pound', 'weight': 453.59237}, {'uri': 'http://www.edamam.com/ontologies/edamam.owl#Measure_kilogram', 'label': 'Kilogram', 'weight': 1000.0}, {'uri': 'http://www.edamam.com/ontologies/edamam.owl#Measure_tablespoon', 'label': 'Tablespoon', 'weight': 15.0}]}, {'food': {'foodId': 'food_an4jjueaucpus2a3u1ni8auhe7q9', 'uri': 'http://www.edamam.com/ontologies/edamam.owl#Food_FDCBR_898932', 'label': 'Champagne Vinaigrette, Champagne', 'knownAs': 'CHAMPAGNE VINAIGRETTE, CHAMPAGNE', 'nutrients': {'ENERC_KCAL': 194.0, 'PROCNT': 0.0, 'FAT': 16.1299991607666, 'CHOCDF': 6.449999809265137}, 'brand': 'T. Marzetti Company', 'category': 'Packaged foods', 'categoryLabel': 'food', 'foodContentsLabel': 'WATER; CANOLA AND SOYBEAN OIL; WHITE WINE (CONTAINS SULFITES); VINEGARS (CHAMPAGNE AND WHITE WINE); SUGAR; SALT; MUSTARD SEED; MONOSODIUM GLUTAMATE; GARLIC*; ONION*; SPICE; XANTHAN GUM; POTASSIUM SORBATE ADDED TO MAINTAIN FRESHNESS; MOLASSES; CALCIUM DISODIUM EDTA ADDED TO PROTECT FLAVOR; CHIVES*; TAMARIND.', 'servingSizes': [{'uri': 'http://www.edamam.com/ontologies/edamam.owl#Measure_gram', 'label': 'Gram', 'quantity': 31.0}, {'uri': 'http://www.edamam.com/ontologies/edamam.owl#Measure_tablespoon', 'label': 'Tablespoon', 'quantity': 2.0}]}, 'measures': [{'uri': 'http://www.edamam.com/ontologies/edamam.owl#Measure_serving', 'label': 'Serving', 'weight': 31.0}, {'uri': 'http://www.edamam.com/ontologies/edamam.owl#Measure_gram', 'label': 'Gram', 'weight': 1.0}, {'uri': 'http://www.edamam.com/ontologies/edamam.owl#Measure_ounce', 'label': 'Ounce', 'weight': 28.349523125}, {'uri': 'http://www.edamam.com/ontologies/edamam.owl#Measure_pound', 'label': 'Pound', 'weight': 453.59237}, {'uri': 'http://www.edamam.com/ontologies/edamam.owl#Measure_kilogram', 'label': 'Kilogram', 'weight': 1000.0}, {'uri': 'http://www.edamam.com/ontologies/edamam.owl#Measure_tablespoon', 'label': 'Tablespoon', 'weight': 15.5}]}, {'food': {'foodId': 'food_bmu5dmkazwuvpaa5prh1daa8jxs0', 'uri': 'http://www.edamam.com/ontologies/edamam.owl#Food_FDCBR_621916', 'label': 'Champagne Dressing, Champagne', 'knownAs': 'CHAMPAGNE DRESSING, CHAMPAGNE', 'nutrients': {'ENERC_KCAL': 500.0, 'PROCNT': 0.0, 'FAT': 50.0, 'CHOCDF': 6.670000076293945, 'FIBTG': 0.0}, 'brand': 'T. Marzetti Company', 'category': 'Packaged foods', 'categoryLabel': 'food', 'foodContentsLabel': 'SOYBEAN OIL; WHITE WINE (PRESERVED WITH SULFITES); WATER; WHITE WINE VINEGAR; SUGAR; SALT; SPICES (INCLUDING MUSTARD SEED); MONOSODIUM GLUTAMATE; GARLIC*; ONION*; XANTHAN GUM; MOLASSES; CALCIUM DISODIUM EDTA ADDED TO PROTECT FLAVOR; VINEGAR; CORN SYRUP; CARAMEL COLOR; CHIVES*; NATURAL FLAVOR; TAMARIND.', 'image': 'https://www.edamam.com/food-img/ab2/ab2459fc2a98cd35f68b848be2337ecb.jpg', 'servingSizes': [{'uri': 'http://www.edamam.com/ontologies/edamam.owl#Measure_gram', 'label': 'Gram', 'quantity': 30.0}, {'uri': 'http://www.edamam.com/ontologies/edamam.owl#Measure_tablespoon', 'label': 'Tablespoon', 'quantity': 2.0}], 'servingsPerContainer': 12.0}, 'measures': [{'uri': 'http://www.edamam.com/ontologies/edamam.owl#Measure_serving', 'label': 'Serving', 'weight': 30.0}, {'uri': 'http://www.edamam.com/ontologies/edamam.owl#Measure_package', 'label': 'Package', 'weight': 360.0}, {'uri': 'http://www.edamam.com/ontologies/edamam.owl#Measure_gram', 'label': 'Gram', 'weight': 1.0}, {'uri': 'http://www.edamam.com/ontologies/edamam.owl#Measure_ounce', 'label': 'Ounce', 'weight': 28.349523125}, {'uri': 'http://www.edamam.com/ontologies/edamam.owl#Measure_pound', 'label': 'Pound', 'weight': 453.59237}, {'uri': 'http://www.edamam.com/ontologies/edamam.owl#Measure_kilogram', 'label': 'Kilogram', 'weight': 1000.0}, {'uri': 'http://www.edamam.com/ontologies/edamam.owl#Measure_tablespoon', 'label': 'Tablespoon', 'weight': 15.0}]}, {'food': {'foodId': 'food_alpl44taoyv11ra0lic1qa8xculi', 'uri': 'http://www.edamam.com/ontologies/edamam.owl#_generic_meal_buttercream_champagne', 'label': 'Champagne Buttercream', 'knownAs': 'Champagne Buttercream', 'nutrients': {'ENERC_KCAL': 431.28471367026697, 'PROCNT': 0.7259713218654498, 'FAT': 21.529796803670717, 'CHOCDF': 59.60717142620606, 'FIBTG': 0.0}, 'category': 'Generic meals', 'categoryLabel': 'meal', 'foodContentsLabel': 'sugar; butter; shortening; vanilla; champagne; milk'}, 'measures': [{'uri': 'http://www.edamam.com/ontologies/edamam.owl#Measure_unit', 'label': 'Whole', 'weight': 179.81592549897243}, {'uri': 'http://www.edamam.com/ontologies/edamam.owl#Measure_serving', 'label': 'Serving', 'weight': 179.81592549897243}, {'uri': 'http://www.edamam.com/ontologies/edamam.owl#Measure_gram', 'label': 'Gram', 'weight': 1.0}, {'uri': 'http://www.edamam.com/ontologies/edamam.owl#Measure_ounce', 'label': 'Ounce', 'weight': 28.349523125}, {'uri': 'http://www.edamam.com/ontologies/edamam.owl#Measure_pound', 'label': 'Pound', 'weight': 453.59237}, {'uri': 'http://www.edamam.com/ontologies/edamam.owl#Measure_kilogram', 'label': 'Kilogram', 'weight': 1000.0}, {'uri': 'http://www.edamam.com/ontologies/edamam.owl#Measure_tablespoon', 'label': 'Tablespoon', 'weight': 20.72}]}, {'food': {'foodId': 'food_byap67hab6evc3a0f9w1oag3s0qf', 'uri': 'http://www.edamam.com/ontologies/edamam.owl#_generic_meal_champagne_sorbet', 'label': 'Champagne Sorbet', 'knownAs': 'Champagne Sorbet', 'nutrients': {'ENERC_KCAL': 116.33699438839903, 'PROCNT': 0.2691648082115457, 'FAT': 0.6126777298453548, 'CHOCDF': 19.30657201915125, 'FIBTG': 0.17632723511163456}, 'category': 'Generic meals', 'categoryLabel': 'meal', 'foodContentsLabel': 'Sugar; Lemon juice; brandy; Champagne; Peach'}, 'measures': [{'uri': 'http://www.edamam.com/ontologies/edamam.owl#Measure_unit', 'label': 'Whole', 'weight': 264.30442579068466}, {'uri': 'http://www.edamam.com/ontologies/edamam.owl#Measure_serving', 'label': 'Serving', 'weight': 264.30442579068466}, {'uri': 'http://www.edamam.com/ontologies/edamam.owl#Measure_gram', 'label': 'Gram', 'weight': 1.0}, {'uri': 'http://www.edamam.com/ontologies/edamam.owl#Measure_ounce', 'label': 'Ounce', 'weight': 28.349523125}, {'uri': 'http://www.edamam.com/ontologies/edamam.owl#Measure_pound', 'label': 'Pound', 'weight': 453.59237}, {'uri': 'http://www.edamam.com/ontologies/edamam.owl#Measure_kilogram', 'label': 'Kilogram', 'weight': 1000.0}, {'uri': 'http://www.edamam.com/ontologies/edamam.owl#Measure_cup', 'label': 'Cup', 'weight': 240.0}, {'uri': 'http://www.edamam.com/ontologies/edamam.owl#Measure_milliliter', 'label': 'Milliliter', 'weight': 1.0}]}, {'food': {'foodId': 'food_am5egz6aq3fpjlaf8xpkdbc2asis', 'uri': 'http://www.edamam.com/ontologies/edamam.owl#_generic_meal_champagne_truffle', 'label': 'Champagne Truffles', 'knownAs': 'Champagne Truffles', 'nutrients': {'ENERC_KCAL': 402.4563227445794, 'PROCNT': 6.572989412844126, 'FAT': 24.480683649804114, 'CHOCDF': 48.437216194163945, 'FIBTG': 7.219556721358561}, 'category': 'Generic meals', 'categoryLabel': 'meal', 'foodContentsLabel': 'butter; cocoa; sweetened condensed milk; vanilla extract; champagne; powdered sugar'}, 'measures': [{'uri': 'http://www.edamam.com/ontologies/edamam.owl#Measure_unit', 'label': 'Whole', 'weight': 37.663994672212034}, {'uri': 'http://www.edamam.com/ontologies/edamam.owl#Measure_serving', 'label': 'Serving', 'weight': 37.663994672212034}, {'uri': 'http://www.edamam.com/ontologies/edamam.owl#Measure_gram', 'label': 'Gram', 'weight': 1.0}, {'uri': 'http://www.edamam.com/ontologies/edamam.owl#Measure_ounce', 'label': 'Ounce', 'weight': 28.349523125}, {'uri': 'http://www.edamam.com/ontologies/edamam.owl#Measure_pound', 'label': 'Pound', 'weight': 453.59237}, {'uri': 'http://www.edamam.com/ontologies/edamam.owl#Measure_kilogram', 'label': 'Kilogram', 'weight': 1000.0}, {'uri': 'http://www.edamam.com/ontologies/edamam.owl#Measure_cup', 'label': 'Cup', 'weight': 240.0}]}, {'food': {'foodId': 'food_bcz8rhiajk1fuva0vkfmeakbouc0', 'uri': 'http://www.edamam.com/ontologies/edamam.owl#_generic_meal_champagne_vinaigrette', 'label': 'Champagne Vinaigrette', 'knownAs': 'Champagne Vinaigrette', 'nutrients': {'ENERC_KCAL': 411.68194970548586, 'PROCNT': 0.32421567364300385, 'FAT': 42.663894176342204, 'CHOCDF': 6.076961319552876, 'FIBTG': 0.4343292172991837}, 'category': 'Generic meals', 'categoryLabel': 'meal', 'foodContentsLabel': 'champagne vinegar; olive oil; Dijon mustard; shallot; honey; Salt; pepper'}, 'measures': [{'uri': 'http://www.edamam.com/ontologies/edamam.owl#Measure_unit', 'label': 'Whole', 'weight': 90.6974982779347}, {'uri': 'http://www.edamam.com/ontologies/edamam.owl#Measure_serving', 'label': 'Serving', 'weight': 90.6974982779347}, {'uri': 'http://www.edamam.com/ontologies/edamam.owl#Measure_gram', 'label': 'Gram', 'weight': 1.0}, {'uri': 'http://www.edamam.com/ontologies/edamam.owl#Measure_ounce', 'label': 'Ounce', 'weight': 28.349523125}, {'uri': 'http://www.edamam.com/ontologies/edamam.owl#Measure_pound', 'label': 'Pound', 'weight': 453.59237}, {'uri': 'http://www.edamam.com/ontologies/edamam.owl#Measure_kilogram', 'label': 'Kilogram', 'weight': 1000.0}, {'uri': 'http://www.edamam.com/ontologies/edamam.owl#Measure_tablespoon', 'label': 'Tablespoon', 'weight': 20.72}, {'uri': 'http://www.edamam.com/ontologies/edamam.owl#Measure_milliliter', 'label': 'Milliliter', 'weight': 1.0}]}, {'food': {'foodId': 'food_a79xmnya6togreaeukbroa0thhh0', 'uri': 'http://www.edamam.com/ontologies/edamam.owl#_generic_meal_champagne_chicken', 'label': 'Champagne Chicken', 'knownAs': 'Champagne Chicken', 'nutrients': {'ENERC_KCAL': 157.52629943853177, 'PROCNT': 14.126390222950626, 'FAT': 8.788886509686218, 'CHOCDF': 3.3899063556151625, 'FIBTG': 0.2490942012404459}, 'category': 'Generic meals', 'categoryLabel': 'meal', 'foodContentsLabel': 'Flour; Salt; Pepper; Boneless, Skinless Chicken Breasts; Butter; Olive Oil; Champagne; Mushrooms; Heavy Whipping Cream'}, 'measures': [{'uri': 'http://www.edamam.com/ontologies/edamam.owl#Measure_unit', 'label': 'Whole', 'weight': 348.56290221641046}, {'uri': 'http://www.edamam.com/ontologies/edamam.owl#Measure_serving', 'label': 'Serving', 'weight': 348.56290221641046}, {'uri': 'http://www.edamam.com/ontologies/edamam.owl#Measure_gram', 'label': 'Gram', 'weight': 1.0}, {'uri': 'http://www.edamam.com/ontologies/edamam.owl#Measure_ounce', 'label': 'Ounce', 'weight': 28.349523125}, {'uri': 'http://www.edamam.com/ontologies/edamam.owl#Measure_pound', 'label': 'Pound', 'weight': 453.59237}, {'uri': 'http://www.edamam.com/ontologies/edamam.owl#Measure_kilogram', 'label': 'Kilogram', 'weight': 1000.0}, {'uri': 'http://www.edamam.com/ontologies/edamam.owl#Measure_milliliter', 'label': 'Milliliter', 'weight': 1.0}]}, {'food': {'foodId': 'food_aoxaf73b3o0igebpj6wjga6kqhco', 'uri': 'http://www.edamam.com/ontologies/edamam.owl#_generic_meal_champagne_strawberry', 'label': 'Strawberry Champagne', 'knownAs': 'Strawberry Champagne', 'nutrients': {'ENERC_KCAL': 78.92201906400439, 'PROCNT': 0.7521686779674064, 'FAT': 0.32547256697649896, 'CHOCDF': 9.746713858431747, 'FIBTG': 0.8455191537034977}, 'category': 'Generic meals', 'categoryLabel': 'meal', 'foodContentsLabel': 'Champagne; Strawberries'}, 'measures': [{'uri': 'http://www.edamam.com/ontologies/edamam.owl#Measure_unit', 'label': 'Whole', 'weight': 319.29197626510177}, {'uri': 'http://www.edamam.com/ontologies/edamam.owl#Measure_serving', 'label': 'Serving', 'weight': 319.29197626510177}, {'uri': 'http://www.edamam.com/ontologies/edamam.owl#Measure_gram', 'label': 'Gram', 'weight': 1.0}, {'uri': 'http://www.edamam.com/ontologies/edamam.owl#Measure_ounce', 'label': 'Ounce', 'weight': 28.349523125}, {'uri': 'http://www.edamam.com/ontologies/edamam.owl#Measure_pound', 'label': 'Pound', 'weight': 453.59237}, {'uri': 'http://www.edamam.com/ontologies/edamam.owl#Measure_kilogram', 'label': 'Kilogram', 'weight': 1000.0}, {'uri': 'http://www.edamam.com/ontologies/edamam.owl#Measure_cup', 'label': 'Cup', 'weight': 240.0}, {'uri': 'http://www.edamam.com/ontologies/edamam.owl#Measure_milliliter', 'label': 'Milliliter', 'weight': 1.0}]}, {'food': {'foodId': 'food_ax1n26waalpd9cbc64bjob7pw6hg', 'uri': 'http://www.edamam.com/ontologies/edamam.owl#_generic_meal_champagne_jelly', 'label': 'Champagne Jelly', 'knownAs': 'Champagne Jelly', 'nutrients': {'ENERC_KCAL': 152.5618432500365, 'PROCNT': 2.479120023789754, 'FAT': 0.08050313905504561, 'CHOCDF': 27.185037145649225, 'FIBTG': 0.2044354906664599}, 'category': 'Generic meals', 'categoryLabel': 'meal', 'foodContentsLabel': 'Champagne; gelatine; caster sugar; blueberries'}, 'measures': [{'uri': 'http://www.edamam.com/ontologies/edamam.owl#Measure_unit', 'label': 'Whole', 'weight': 182.84695523650876}, {'uri': 'http://www.edamam.com/ontologies/edamam.owl#Measure_serving', 'label': 'Serving', 'weight': 182.84695523650876}, {'uri': 'http://www.edamam.com/ontologies/edamam.owl#Measure_gram', 'label': 'Gram', 'weight': 1.0}, {'uri': 'http://www.edamam.com/ontologies/edamam.owl#Measure_ounce', 'label': 'Ounce', 'weight': 28.349523125}, {'uri': 'http://www.edamam.com/ontologies/edamam.owl#Measure_pound', 'label': 'Pound', 'weight': 453.59237}, {'uri': 'http://www.edamam.com/ontologies/edamam.owl#Measure_kilogram', 'label': 'Kilogram', 'weight': 1000.0}, {'uri': 'http://www.edamam.com/ontologies/edamam.owl#Measure_tablespoon', 'label': 'Tablespoon', 'weight': 20.72}, {'uri': 'http://www.edamam.com/ontologies/edamam.owl#Measure_milliliter', 'label': 'Milliliter', 'weight': 1.0}]}, {'food': {'foodId': 'food_b4va8u0bb6pf74akh2rtcb3llna9', 'uri': 'http://www.edamam.com/ontologies/edamam.owl#_generic_meal_champagne_punch', 'label': 'Champagne Punch', 'knownAs': 'Champagne Punch', 'nutrients': {'ENERC_KCAL': 72.93785614391456, 'PROCNT': 0.16096932476783907, 'FAT': 0.07212613992027288, 'CHOCDF': 8.17392824590524, 'FIBTG': 0.28861592203452796}, 'category': 'Generic meals', 'categoryLabel': 'meal', 'foodContentsLabel': 'champagne; simple syrup; orange juice; blueberries; raspberries; orange; ice'}, 'measures': [{'uri': 'http://www.edamam.com/ontologies/edamam.owl#Measure_unit', 'label': 'Whole', 'weight': 319.53585882266117}, {'uri': 'http://www.edamam.com/ontologies/edamam.owl#Measure_serving', 'label': 'Serving', 'weight': 319.53585882266117}, {'uri': 'http://www.edamam.com/ontologies/edamam.owl#Measure_gram', 'label': 'Gram', 'weight': 1.0}, {'uri': 'http://www.edamam.com/ontologies/edamam.owl#Measure_ounce', 'label': 'Ounce', 'weight': 28.349523125}, {'uri': 'http://www.edamam.com/ontologies/edamam.owl#Measure_pound', 'label': 'Pound', 'weight': 453.59237}, {'uri': 'http://www.edamam.com/ontologies/edamam.owl#Measure_kilogram', 'label': 'Kilogram', 'weight': 1000.0}, {'uri': 'http://www.edamam.com/ontologies/edamam.owl#Measure_cup', 'label': 'Cup', 'weight': 240.0}, {'uri': 'http://www.edamam.com/ontologies/edamam.owl#Measure_milliliter', 'label': 'Milliliter', 'weight': 1.0}]}, {'food': {'foodId': 'food_a4j8wm8ayflf13b45t3c3bk9w4ek', 'uri': 'http://www.edamam.com/ontologies/edamam.owl#_generic_meal_champagne_sangria', 'label': 'Champagne Sangria', 'knownAs': 'Champagne Sangria', 'nutrients': {'ENERC_KCAL': 84.45493140026794, 'PROCNT': 0.4085039277389953, 'FAT': 0.11418214877057638, 'CHOCDF': 13.833775891574787, 'FIBTG': 0.9172870824229086}, 'category': 'Generic meals', 'categoryLabel': 'meal', 'foodContentsLabel': 'mint leaves; Champagne; orange juice; lemon; lime; strawberries; ice; sugar'}, 'measures': [{'uri': 'http://www.edamam.com/ontologies/edamam.owl#Measure_unit', 'label': 'Whole', 'weight': 328.1769209565396}, {'uri': 'http://www.edamam.com/ontologies/edamam.owl#Measure_serving', 'label': 'Serving', 'weight': 328.1769209565396}, {'uri': 'http://www.edamam.com/ontologies/edamam.owl#Measure_gram', 'label': 'Gram', 'weight': 1.0}, {'uri': 'http://www.edamam.com/ontologies/edamam.owl#Measure_ounce', 'label': 'Ounce', 'weight': 28.349523125}, {'uri': 'http://www.edamam.com/ontologies/edamam.owl#Measure_pound', 'label': 'Pound', 'weight': 453.59237}, {'uri': 'http://www.edamam.com/ontologies/edamam.owl#Measure_kilogram', 'label': 'Kilogram', 'weight': 1000.0}, {'uri': 'http://www.edamam.com/ontologies/edamam.owl#Measure_cup', 'label': 'Cup', 'weight': 240.0}, {'uri': 'http://www.edamam.com/ontologies/edamam.owl#Measure_milliliter', 'label': 'Milliliter', 'weight': 1.0}]}, {'food': {'foodId': 'food_bw7gtgxbnn7nbwa62ppwpar9ljc1', 'uri': 'http://www.edamam.com/ontologies/edamam.owl#Food_FDCBR_688782', 'label': 'Champagne Cotton Candy, Champagne', 'knownAs': 'CHAMPAGNE COTTON CANDY, CHAMPAGNE', 'nutrients': {'ENERC_KCAL': 393.0, 'PROCNT': 0.0, 'FAT': 0.0, 'CHOCDF': 100.0}, 'brand': 'WONDERSHOP', 'category': 'Packaged foods', 'categoryLabel': 'food', 'foodContentsLabel': 'SUGAR; ARTIFICIAL & NATURAL FLAVOR.', 'servingSizes': [{'uri': 'http://www.edamam.com/ontologies/edamam.owl#Measure_gram', 'label': 'Gram', 'quantity': 28.0}], 'servingsPerContainer': 1.0}, 'measures': [{'uri': 'http://www.edamam.com/ontologies/edamam.owl#Measure_serving', 'label': 'Serving', 'weight': 28.0}, {'uri': 'http://www.edamam.com/ontologies/edamam.owl#Measure_package', 'label': 'Package', 'weight': 28.0}, {'uri': 'http://www.edamam.com/ontologies/edamam.owl#Measure_gram', 'label': 'Gram', 'weight': 1.0}, {'uri': 'http://www.edamam.com/ontologies/edamam.owl#Measure_ounce', 'label': 'Ounce', 'weight': 28.349523125}, {'uri': 'http://www.edamam.com/ontologies/edamam.owl#Measure_pound', 'label': 'Pound', 'weight': 453.59237}, {'uri': 'http://www.edamam.com/ontologies/edamam.owl#Measure_kilogram', 'label': 'Kilogram', 'weight': 1000.0}]}, {'food': {'foodId': 'food_bu12urpbtuo9v6b4jpvk2a1fh4hh', 'uri': 'http://www.edamam.com/ontologies/edamam.owl#Food_FDCBR_820952', 'label': 'Champagne Simply Dressed Vinaigrette, Champagne', 'knownAs': 'CHAMPAGNE SIMPLY DRESSED VINAIGRETTE, CHAMPAGNE', 'nutrients': {'ENERC_KCAL': 267.0, 'PROCNT': 0.0, 'FAT': 26.670000076293945, 'CHOCDF': 6.670000076293945}, 'brand': 'Simply Dressed', 'category': 'Packaged foods', 'categoryLabel': 'food', 'foodContentsLabel': 'FILTERED WATER; CANOLA OIL; CHAMPAGNE AND WHITE WINE VINEGARS; CANE SUGAR; EXTRA VIRGIN OLIVE OIL; SALT; NATURAL FLAVOR; GARLIC*; SPICE; XANTHAN GUM; BELL PEPPER*.', 'image': 'https://www.edamam.com/food-img/736/736a3e27a63d799d4073d2774075b509.png', 'servingSizes': [{'uri': 'http://www.edamam.com/ontologies/edamam.owl#Measure_tablespoon', 'label': 'Tablespoon', 'quantity': 2.0}, {'uri': 'http://www.edamam.com/ontologies/edamam.owl#Measure_gram', 'label': 'Gram', 'quantity': 30.0}]}, 'measures': [{'uri': 'http://www.edamam.com/ontologies/edamam.owl#Measure_serving', 'label': 'Serving', 'weight': 30.0}, {'uri': 'http://www.edamam.com/ontologies/edamam.owl#Measure_gram', 'label': 'Gram', 'weight': 1.0}, {'uri': 'http://www.edamam.com/ontologies/edamam.owl#Measure_ounce', 'label': 'Ounce', 'weight': 28.349523125}, {'uri': 'http://www.edamam.com/ontologies/edamam.owl#Measure_pound', 'label': 'Pound', 'weight': 453.59237}, {'uri': 'http://www.edamam.com/ontologies/edamam.owl#Measure_kilogram', 'label': 'Kilogram', 'weight': 1000.0}, {'uri': 'http://www.edamam.com/ontologies/edamam.owl#Measure_tablespoon', 'label': 'Tablespoon', 'weight': 15.0}]}, {'food': {'foodId': 'food_bba727vaimolf0b8stgoibx7ujei', 'uri': 'http://www.edamam.com/ontologies/edamam.owl#_generic_meal_cake_champagne', 'label': 'Champagne Cake', 'knownAs': 'Champagne Cake', 'nutrients': {'ENERC_KCAL': 357.0338641448535, 'PROCNT': 3.5950055146347077, 'FAT': 18.113741283632606, 'CHOCDF': 45.05864329865586, 'FIBTG': 0.715559613892597}, 'category': 'Generic meals', 'categoryLabel': 'meal', 'foodContentsLabel': 'flour; baking powder; salt; butter; sugar; eggs; vanilla extract; champagne; powdered sugar'}, 'measures': [{'uri': 'http://www.edamam.com/ontologies/edamam.owl#Measure_unit', 'label': 'Whole', 'weight': 123.77908827010602}, {'uri': 'http://www.edamam.com/ontologies/edamam.owl#Measure_serving', 'label': 'Serving', 'weight': 123.77908827010602}, {'uri': 'http://www.edamam.com/ontologies/edamam.owl#Measure_slice', 'label': 'Slice', 'weight': 102.1846638}, {'uri': 'http://www.edamam.com/ontologies/edamam.owl#Measure_gram', 'label': 'Gram', 'weight': 1.0}, {'uri': 'http://www.edamam.com/ontologies/edamam.owl#Measure_ounce', 'label': 'Ounce', 'weight': 28.349523125}, {'uri': 'http://www.edamam.com/ontologies/edamam.owl#Measure_pound', 'label': 'Pound', 'weight': 453.59237}, {'uri': 'http://www.edamam.com/ontologies/edamam.owl#Measure_kilogram', 'label': 'Kilogram', 'weight': 1000.0}]}, {'food': {'foodId': 'food_a6mj2obbqy38soat01vrxaqnvvet', 'uri': 'http://www.edamam.com/ontologies/edamam.owl#_generic_meal_champagne_cupcake', 'label': 'Champagne Cupcakes', 'knownAs': 'Champagne Cupcakes', 'nutrients': {'ENERC_KCAL': 370.5797446632708, 'PROCNT': 2.6831487670609833, 'FAT': 18.569610584957, 'CHOCDF': 47.19456106207237, 'FIBTG': 0.43960819149829866}, 'category': 'Generic meals', 'categoryLabel': 'meal', 'foodContentsLabel': 'butter; sugar; eggs; champagne; plain yogurt; flour; baking powder; salt; powdered sugar'}, 'measures': [{'uri': 'http://www.edamam.com/ontologies/edamam.owl#Measure_unit', 'label': 'Whole', 'weight': 121.37677348236154}, {'uri': 'http://www.edamam.com/ontologies/edamam.owl#Measure_serving', 'label': 'Serving', 'weight': 121.37677348236154}, {'uri': 'http://www.edamam.com/ontologies/edamam.owl#Measure_cupcake', 'label': 'Cupcake', 'weight': 157.5986171}, {'uri': 'http://www.edamam.com/ontologies/edamam.owl#Measure_gram', 'label': 'Gram', 'weight': 1.0}, {'uri': 'http://www.edamam.com/ontologies/edamam.owl#Measure_ounce', 'label': 'Ounce', 'weight': 28.349523125}, {'uri': 'http://www.edamam.com/ontologies/edamam.owl#Measure_pound', 'label': 'Pound', 'weight': 453.59237}, {'uri': 'http://www.edamam.com/ontologies/edamam.owl#Measure_kilogram', 'label': 'Kilogram', 'weight': 1000.0}]}, {'food': {'foodId': 'food_aj3tbbpbl068bhagn76uubtzyzyv', 'uri': 'http://www.edamam.com/ontologies/edamam.owl#Food_FDCBR_461724', 'label': 'Champagne Vinegar', 'knownAs': 'CHAMPAGNE VINEGAR', 'nutrients': {'ENERC_KCAL': 33.0, 'PROCNT': 0.0, 'FAT': 0.0, 'CHOCDF': 6.670000076293945, 'FIBTG': 0.0}, 'brand': 'O TARRAGON', 'category': 'Packaged foods', 'categoryLabel': 'food', 'foodContentsLabel': 'CALIFORNIA CHAMPAGNE WINE VINEGAR; FRESH TARRAGON.', 'servingSizes': [{'uri': 'http://www.edamam.com/ontologies/edamam.owl#Measure_tablespoon', 'label': 'Tablespoon', 'quantity': 1.0}, {'uri': 'http://www.edamam.com/ontologies/edamam.owl#Measure_milliliter', 'label': 'Milliliter', 'quantity': 15.0}]}, 'measures': [{'uri': 'http://www.edamam.com/ontologies/edamam.owl#Measure_serving', 'label': 'Serving', 'weight': 14.786764781}, {'uri': 'http://www.edamam.com/ontologies/edamam.owl#Measure_tablespoon', 'label': 'Tablespoon', 'weight': 14.786764781}, {'uri': 'http://www.edamam.com/ontologies/edamam.owl#Measure_gram', 'label': 'Gram', 'weight': 1.0}, {'uri': 'http://www.edamam.com/ontologies/edamam.owl#Measure_ounce', 'label': 'Ounce', 'weight': 28.349523125}, {'uri': 'http://www.edamam.com/ontologies/edamam.owl#Measure_pound', 'label': 'Pound', 'weight': 453.59237}, {'uri': 'http://www.edamam.com/ontologies/edamam.owl#Measure_kilogram', 'label': 'Kilogram', 'weight': 1000.0}, {'uri': 'http://www.edamam.com/ontologies/edamam.owl#Measure_milliliter', 'label': 'Milliliter', 'weight': 0.9857843187333334}]}], '_links': {'next': {'title': 'Next page', 'href': 'https://api.edamam.com/api/food-database/v2/parser?session=40&app_key=69d004c3e3c5b967261e625baea627fc&app_id=85b409cf&ingr=champagne'}}}\n"
     ]
    }
   ],
   "source": [
    "print(data)"
   ]
  },
  {
   "cell_type": "markdown",
   "id": "91f6ad1e-559e-461c-b25a-92833e516e84",
   "metadata": {},
   "source": [
    "# Visualisations des resultats dans un dataframe"
   ]
  },
  {
   "cell_type": "code",
   "execution_count": 5,
   "id": "335edc8a-07a2-4279-929e-e2bb63485eb7",
   "metadata": {},
   "outputs": [],
   "source": [
    "data = pd.read_csv('Data/champagne_products.csv')"
   ]
  },
  {
   "cell_type": "code",
   "execution_count": 6,
   "id": "601ed011-1ce2-4123-8acb-f488237092fe",
   "metadata": {},
   "outputs": [
    {
     "data": {
      "text/html": [
       "<div>\n",
       "<style scoped>\n",
       "    .dataframe tbody tr th:only-of-type {\n",
       "        vertical-align: middle;\n",
       "    }\n",
       "\n",
       "    .dataframe tbody tr th {\n",
       "        vertical-align: top;\n",
       "    }\n",
       "\n",
       "    .dataframe thead th {\n",
       "        text-align: right;\n",
       "    }\n",
       "</style>\n",
       "<table border=\"1\" class=\"dataframe\">\n",
       "  <thead>\n",
       "    <tr style=\"text-align: right;\">\n",
       "      <th></th>\n",
       "      <th>foodId</th>\n",
       "      <th>label</th>\n",
       "      <th>category</th>\n",
       "      <th>foodContentsLabel</th>\n",
       "      <th>image</th>\n",
       "    </tr>\n",
       "  </thead>\n",
       "  <tbody>\n",
       "    <tr>\n",
       "      <th>0</th>\n",
       "      <td>food_a656mk2a5dmqb2adiamu6beihduu</td>\n",
       "      <td>Champagne</td>\n",
       "      <td>Generic foods</td>\n",
       "      <td>NaN</td>\n",
       "      <td>https://www.edamam.com/food-img/a71/a718cf3c52...</td>\n",
       "    </tr>\n",
       "    <tr>\n",
       "      <th>1</th>\n",
       "      <td>food_a656mk2a5dmqb2adiamu6beihduu</td>\n",
       "      <td>Champagne</td>\n",
       "      <td>Generic foods</td>\n",
       "      <td>NaN</td>\n",
       "      <td>https://www.edamam.com/food-img/a71/a718cf3c52...</td>\n",
       "    </tr>\n",
       "    <tr>\n",
       "      <th>2</th>\n",
       "      <td>food_b753ithamdb8psbt0w2k9aquo06c</td>\n",
       "      <td>Champagne Vinaigrette, Champagne</td>\n",
       "      <td>Packaged foods</td>\n",
       "      <td>OLIVE OIL; BALSAMIC VINEGAR; CHAMPAGNE VINEGAR...</td>\n",
       "      <td>NaN</td>\n",
       "    </tr>\n",
       "    <tr>\n",
       "      <th>3</th>\n",
       "      <td>food_b3dyababjo54xobm6r8jzbghjgqe</td>\n",
       "      <td>Champagne Vinaigrette, Champagne</td>\n",
       "      <td>Packaged foods</td>\n",
       "      <td>INGREDIENTS: WATER; CANOLA OIL; CHAMPAGNE VINE...</td>\n",
       "      <td>https://www.edamam.com/food-img/d88/d88b64d973...</td>\n",
       "    </tr>\n",
       "    <tr>\n",
       "      <th>4</th>\n",
       "      <td>food_a9e0ghsamvoc45bwa2ybsa3gken9</td>\n",
       "      <td>Champagne Vinaigrette, Champagne</td>\n",
       "      <td>Packaged foods</td>\n",
       "      <td>CANOLA AND SOYBEAN OIL; WHITE WINE (CONTAINS S...</td>\n",
       "      <td>NaN</td>\n",
       "    </tr>\n",
       "    <tr>\n",
       "      <th>5</th>\n",
       "      <td>food_an4jjueaucpus2a3u1ni8auhe7q9</td>\n",
       "      <td>Champagne Vinaigrette, Champagne</td>\n",
       "      <td>Packaged foods</td>\n",
       "      <td>WATER; CANOLA AND SOYBEAN OIL; WHITE WINE (CON...</td>\n",
       "      <td>NaN</td>\n",
       "    </tr>\n",
       "    <tr>\n",
       "      <th>6</th>\n",
       "      <td>food_bmu5dmkazwuvpaa5prh1daa8jxs0</td>\n",
       "      <td>Champagne Dressing, Champagne</td>\n",
       "      <td>Packaged foods</td>\n",
       "      <td>SOYBEAN OIL; WHITE WINE (PRESERVED WITH SULFIT...</td>\n",
       "      <td>https://www.edamam.com/food-img/ab2/ab2459fc2a...</td>\n",
       "    </tr>\n",
       "    <tr>\n",
       "      <th>7</th>\n",
       "      <td>food_alpl44taoyv11ra0lic1qa8xculi</td>\n",
       "      <td>Champagne Buttercream</td>\n",
       "      <td>Generic meals</td>\n",
       "      <td>sugar; butter; shortening; vanilla; champagne;...</td>\n",
       "      <td>NaN</td>\n",
       "    </tr>\n",
       "    <tr>\n",
       "      <th>8</th>\n",
       "      <td>food_byap67hab6evc3a0f9w1oag3s0qf</td>\n",
       "      <td>Champagne Sorbet</td>\n",
       "      <td>Generic meals</td>\n",
       "      <td>Sugar; Lemon juice; brandy; Champagne; Peach</td>\n",
       "      <td>NaN</td>\n",
       "    </tr>\n",
       "    <tr>\n",
       "      <th>9</th>\n",
       "      <td>food_am5egz6aq3fpjlaf8xpkdbc2asis</td>\n",
       "      <td>Champagne Truffles</td>\n",
       "      <td>Generic meals</td>\n",
       "      <td>butter; cocoa; sweetened condensed milk; vanil...</td>\n",
       "      <td>NaN</td>\n",
       "    </tr>\n",
       "  </tbody>\n",
       "</table>\n",
       "</div>"
      ],
      "text/plain": [
       "                              foodId                             label  \\\n",
       "0  food_a656mk2a5dmqb2adiamu6beihduu                         Champagne   \n",
       "1  food_a656mk2a5dmqb2adiamu6beihduu                         Champagne   \n",
       "2  food_b753ithamdb8psbt0w2k9aquo06c  Champagne Vinaigrette, Champagne   \n",
       "3  food_b3dyababjo54xobm6r8jzbghjgqe  Champagne Vinaigrette, Champagne   \n",
       "4  food_a9e0ghsamvoc45bwa2ybsa3gken9  Champagne Vinaigrette, Champagne   \n",
       "5  food_an4jjueaucpus2a3u1ni8auhe7q9  Champagne Vinaigrette, Champagne   \n",
       "6  food_bmu5dmkazwuvpaa5prh1daa8jxs0     Champagne Dressing, Champagne   \n",
       "7  food_alpl44taoyv11ra0lic1qa8xculi             Champagne Buttercream   \n",
       "8  food_byap67hab6evc3a0f9w1oag3s0qf                  Champagne Sorbet   \n",
       "9  food_am5egz6aq3fpjlaf8xpkdbc2asis                Champagne Truffles   \n",
       "\n",
       "         category                                  foodContentsLabel  \\\n",
       "0   Generic foods                                                NaN   \n",
       "1   Generic foods                                                NaN   \n",
       "2  Packaged foods  OLIVE OIL; BALSAMIC VINEGAR; CHAMPAGNE VINEGAR...   \n",
       "3  Packaged foods  INGREDIENTS: WATER; CANOLA OIL; CHAMPAGNE VINE...   \n",
       "4  Packaged foods  CANOLA AND SOYBEAN OIL; WHITE WINE (CONTAINS S...   \n",
       "5  Packaged foods  WATER; CANOLA AND SOYBEAN OIL; WHITE WINE (CON...   \n",
       "6  Packaged foods  SOYBEAN OIL; WHITE WINE (PRESERVED WITH SULFIT...   \n",
       "7   Generic meals  sugar; butter; shortening; vanilla; champagne;...   \n",
       "8   Generic meals       Sugar; Lemon juice; brandy; Champagne; Peach   \n",
       "9   Generic meals  butter; cocoa; sweetened condensed milk; vanil...   \n",
       "\n",
       "                                               image  \n",
       "0  https://www.edamam.com/food-img/a71/a718cf3c52...  \n",
       "1  https://www.edamam.com/food-img/a71/a718cf3c52...  \n",
       "2                                                NaN  \n",
       "3  https://www.edamam.com/food-img/d88/d88b64d973...  \n",
       "4                                                NaN  \n",
       "5                                                NaN  \n",
       "6  https://www.edamam.com/food-img/ab2/ab2459fc2a...  \n",
       "7                                                NaN  \n",
       "8                                                NaN  \n",
       "9                                                NaN  "
      ]
     },
     "execution_count": 6,
     "metadata": {},
     "output_type": "execute_result"
    }
   ],
   "source": [
    "data.head(10)"
   ]
  },
  {
   "cell_type": "markdown",
   "id": "a1e9eb16-68de-4f35-a0de-aa4a93cd2f2d",
   "metadata": {},
   "source": [
    "Il semble que les champs foodContentsLabel et image ne sont pas toujours présents dans chaque entrée renvoyée par l'API, ce qui explique pourquoi certaines valeurs sont enregistrées comme NaN dans le fichier CSV"
   ]
  },
  {
   "cell_type": "markdown",
   "id": "b984021d-9222-4b36-9b38-0541da8592b0",
   "metadata": {},
   "source": [
    "Pour résoudre ce problème, nous allons vérifier si chaque champ existe avant de l'écrire dans le fichier."
   ]
  },
  {
   "cell_type": "code",
   "execution_count": 7,
   "id": "3e457faa-25ad-4801-a6e6-34d07b7799d0",
   "metadata": {},
   "outputs": [
    {
     "name": "stdout",
     "output_type": "stream",
     "text": [
      "Les données ont été enregistrées dans 'champagne_products.csv'.\n"
     ]
    }
   ],
   "source": [
    "import requests\n",
    "import csv\n",
    "\n",
    "# URL de l'API et paramètres de la requête\n",
    "url = \"https://edamam-food-and-grocery-database.p.rapidapi.com/api/food-database/v2/parser\"\n",
    "querystring = {\"ingr\":\"champagne\"}\n",
    "headers = {\n",
    "    \"X-RapidAPI-Key\": \"4f03f5d8e3msh960222cd30adde9p17b8abjsn3511ddad03aa\",\n",
    "    \"X-RapidAPI-Host\": \"edamam-food-and-grocery-database.p.rapidapi.com\"\n",
    "}\n",
    "\n",
    "# Envoi de la requête API\n",
    "response = requests.get(url, headers=headers, params=querystring)\n",
    "data = response.json()\n",
    "\n",
    "# Ouverture d'un fichier CSV pour écrire les données des produits\n",
    "with open('Data/champagne_products_correct.csv', mode='w', newline='', encoding='utf-8') as file:\n",
    "    writer = csv.writer(file)\n",
    "    writer.writerow(['foodId', 'label', 'category', 'foodContentsLabel', 'image'])\n",
    "    count = 0\n",
    "\n",
    "    # Boucle pour parcourir les aliments retournés et vérifier les champs\n",
    "    for item in data.get('hints', []):\n",
    "        food = item.get('food', {})\n",
    "        if 'image' in food:\n",
    "            foodId = food.get('foodId')\n",
    "            label = food.get('label')\n",
    "            category = food.get('category')\n",
    "            foodContentsLabel = food.get('foodContentsLabel')\n",
    "            image = food.get('image')\n",
    "\n",
    "            # Écriture des données du produit dans le fichier CSV si l'image est présente\n",
    "            writer.writerow([foodId, label, category, foodContentsLabel, image])\n",
    "            count += 1\n",
    "            if count == 10:\n",
    "                break\n",
    "\n",
    "print(\"Les données ont été enregistrées dans 'champagne_products.csv'.\")\n"
   ]
  },
  {
   "cell_type": "code",
   "execution_count": 8,
   "id": "f8d0be35-4923-48e8-ba42-1aedfb597d38",
   "metadata": {},
   "outputs": [],
   "source": [
    "data_correct = pd.read_csv('Data/champagne_products_correct.csv')"
   ]
  },
  {
   "cell_type": "code",
   "execution_count": 9,
   "id": "6e235441-116a-4e72-8225-5b58ba11b1a9",
   "metadata": {},
   "outputs": [
    {
     "data": {
      "text/html": [
       "<div>\n",
       "<style scoped>\n",
       "    .dataframe tbody tr th:only-of-type {\n",
       "        vertical-align: middle;\n",
       "    }\n",
       "\n",
       "    .dataframe tbody tr th {\n",
       "        vertical-align: top;\n",
       "    }\n",
       "\n",
       "    .dataframe thead th {\n",
       "        text-align: right;\n",
       "    }\n",
       "</style>\n",
       "<table border=\"1\" class=\"dataframe\">\n",
       "  <thead>\n",
       "    <tr style=\"text-align: right;\">\n",
       "      <th></th>\n",
       "      <th>foodId</th>\n",
       "      <th>label</th>\n",
       "      <th>category</th>\n",
       "      <th>foodContentsLabel</th>\n",
       "      <th>image</th>\n",
       "    </tr>\n",
       "  </thead>\n",
       "  <tbody>\n",
       "    <tr>\n",
       "      <th>0</th>\n",
       "      <td>food_a656mk2a5dmqb2adiamu6beihduu</td>\n",
       "      <td>Champagne</td>\n",
       "      <td>Generic foods</td>\n",
       "      <td>NaN</td>\n",
       "      <td>https://www.edamam.com/food-img/a71/a718cf3c52...</td>\n",
       "    </tr>\n",
       "    <tr>\n",
       "      <th>1</th>\n",
       "      <td>food_b3dyababjo54xobm6r8jzbghjgqe</td>\n",
       "      <td>Champagne Vinaigrette, Champagne</td>\n",
       "      <td>Packaged foods</td>\n",
       "      <td>INGREDIENTS: WATER; CANOLA OIL; CHAMPAGNE VINE...</td>\n",
       "      <td>https://www.edamam.com/food-img/d88/d88b64d973...</td>\n",
       "    </tr>\n",
       "    <tr>\n",
       "      <th>2</th>\n",
       "      <td>food_bmu5dmkazwuvpaa5prh1daa8jxs0</td>\n",
       "      <td>Champagne Dressing, Champagne</td>\n",
       "      <td>Packaged foods</td>\n",
       "      <td>SOYBEAN OIL; WHITE WINE (PRESERVED WITH SULFIT...</td>\n",
       "      <td>https://www.edamam.com/food-img/ab2/ab2459fc2a...</td>\n",
       "    </tr>\n",
       "    <tr>\n",
       "      <th>3</th>\n",
       "      <td>food_bu12urpbtuo9v6b4jpvk2a1fh4hh</td>\n",
       "      <td>Champagne Simply Dressed Vinaigrette, Champagne</td>\n",
       "      <td>Packaged foods</td>\n",
       "      <td>FILTERED WATER; CANOLA OIL; CHAMPAGNE AND WHIT...</td>\n",
       "      <td>https://www.edamam.com/food-img/736/736a3e27a6...</td>\n",
       "    </tr>\n",
       "  </tbody>\n",
       "</table>\n",
       "</div>"
      ],
      "text/plain": [
       "                              foodId  \\\n",
       "0  food_a656mk2a5dmqb2adiamu6beihduu   \n",
       "1  food_b3dyababjo54xobm6r8jzbghjgqe   \n",
       "2  food_bmu5dmkazwuvpaa5prh1daa8jxs0   \n",
       "3  food_bu12urpbtuo9v6b4jpvk2a1fh4hh   \n",
       "\n",
       "                                             label        category  \\\n",
       "0                                        Champagne   Generic foods   \n",
       "1                 Champagne Vinaigrette, Champagne  Packaged foods   \n",
       "2                    Champagne Dressing, Champagne  Packaged foods   \n",
       "3  Champagne Simply Dressed Vinaigrette, Champagne  Packaged foods   \n",
       "\n",
       "                                   foodContentsLabel  \\\n",
       "0                                                NaN   \n",
       "1  INGREDIENTS: WATER; CANOLA OIL; CHAMPAGNE VINE...   \n",
       "2  SOYBEAN OIL; WHITE WINE (PRESERVED WITH SULFIT...   \n",
       "3  FILTERED WATER; CANOLA OIL; CHAMPAGNE AND WHIT...   \n",
       "\n",
       "                                               image  \n",
       "0  https://www.edamam.com/food-img/a71/a718cf3c52...  \n",
       "1  https://www.edamam.com/food-img/d88/d88b64d973...  \n",
       "2  https://www.edamam.com/food-img/ab2/ab2459fc2a...  \n",
       "3  https://www.edamam.com/food-img/736/736a3e27a6...  "
      ]
     },
     "execution_count": 9,
     "metadata": {},
     "output_type": "execute_result"
    }
   ],
   "source": [
    "data_correct.head(10)"
   ]
  }
 ],
 "metadata": {
  "kernelspec": {
   "display_name": "Python 3 (ipykernel)",
   "language": "python",
   "name": "python3"
  },
  "language_info": {
   "codemirror_mode": {
    "name": "ipython",
    "version": 3
   },
   "file_extension": ".py",
   "mimetype": "text/x-python",
   "name": "python",
   "nbconvert_exporter": "python",
   "pygments_lexer": "ipython3",
   "version": "3.9.19"
  }
 },
 "nbformat": 4,
 "nbformat_minor": 5
}
